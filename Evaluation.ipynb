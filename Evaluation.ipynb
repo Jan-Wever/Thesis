{
 "cells": [
  {
   "cell_type": "markdown",
   "metadata": {},
   "source": [
    "# Evaluation"
   ]
  },
  {
   "cell_type": "markdown",
   "metadata": {},
   "source": [
    "## Introduction"
   ]
  },
  {
   "cell_type": "markdown",
   "metadata": {},
   "source": [
    "In this notebook, we will evaluate the tokennizers and the trained models. "
   ]
  },
  {
   "cell_type": "markdown",
   "metadata": {},
   "source": [
    "## Load necessary files and objects"
   ]
  },
  {
   "cell_type": "markdown",
   "metadata": {},
   "source": [
    "### Dependencies and basic functions"
   ]
  },
  {
   "cell_type": "code",
   "execution_count": 85,
   "metadata": {},
   "outputs": [],
   "source": [
    "import os\n",
    "import re\n",
    "import copy\n",
    "import json\n",
    "import torch\n",
    "from pathlib import Path\n",
    "from transformers import AutoTokenizer, RobertaTokenizerFast, RobertaForMaskedLM, RobertaModel, BertModel\n",
    "from transformers import RobertaTokenizer, RobertaForSequenceClassification, Trainer, TrainingArguments, RobertaForTokenClassification\n",
    "from transformers import pipeline, DataCollatorWithPadding, EarlyStoppingCallback, DataCollatorForTokenClassification\n",
    "from collections import defaultdict\n",
    "from tqdm import tqdm\n",
    "import torch\n",
    "import torch.nn.functional as F\n",
    "from scipy.stats import spearmanr, linregress\n",
    "import matplotlib.pyplot as plt\n",
    "import pandas as pd\n",
    "import time\n",
    "from datasets import Dataset, DatasetDict, ClassLabel\n",
    "from sklearn.model_selection import train_test_split\n",
    "import random\n",
    "import pandas as pd\n",
    "from datasets import load_dataset, concatenate_datasets\n",
    "import logging\n",
    "from transformers import RobertaTokenizer\n",
    "from torch.nn.utils.rnn import pad_sequence\n",
    "from torch.utils.data import DataLoader\n",
    "from sklearn.linear_model import LinearRegression\n",
    "import numpy as np\n",
    "from datasets import load_metric\n",
    "import morfessor\n",
    "\n",
    "\n",
    "\n",
    "\n",
    "data_path = '/Users/jan/Documents/Master/Thesis/Code/Datasets'\n",
    "\n",
    "\n",
    "\n",
    "def load_json(path):\n",
    "    with open(path, 'r') as f:\n",
    "        my_dict = json.load(f)\n",
    "    return my_dict\n",
    "\n",
    "def store_json(path, object):\n",
    "    with open(path, 'w') as f:\n",
    "        json.dump(object, f)"
   ]
  },
  {
   "cell_type": "markdown",
   "metadata": {},
   "source": [
    "### Words ands texts"
   ]
  },
  {
   "cell_type": "markdown",
   "metadata": {},
   "source": [
    "Here we load the SimLex words, a word list obtained from OnzeTaal, a word list obtained from the CELEX database, and the corpus the model has trained on in the form of word frequency dictionaries"
   ]
  },
  {
   "cell_type": "markdown",
   "metadata": {},
   "source": [
    "#### SimLex"
   ]
  },
  {
   "cell_type": "code",
   "execution_count": 3,
   "metadata": {},
   "outputs": [],
   "source": [
    "def load_simlex(simlex999, scores=False):\n",
    "    # create list with a tuple for every word pair in the form of (word_1, word_2, similarity score, POS-tag)\n",
    "    word_pairs = []\n",
    "\n",
    "    # create a set with all words\n",
    "    words_set = set([])\n",
    "\n",
    "    with open(simlex999) as simlex:\n",
    "        \n",
    "        next(simlex) # skip first line\n",
    "        \n",
    "        for line in simlex:\n",
    "    \n",
    "            split = line.strip().split('\\t')\n",
    "            word_pairs.append(tuple(split))\n",
    "            words_set.add(split[0])\n",
    "            words_set.add(split[1])\n",
    "\n",
    "    # create a list of unique words\n",
    "    simlex_words = list(words_set)\n",
    "\n",
    "    if scores:\n",
    "        return word_pairs\n",
    "    else:\n",
    "        return simlex_words\n",
    "\n",
    "\n",
    "\n",
    "simlex_path = os.path.join(data_path, 'SimLex-999', 'SimLex-999-Dutch-final.txt')\n",
    "simlex_words = load_simlex(simlex_path)\n",
    "simlex_pairs = load_simlex(simlex_path, scores=True)"
   ]
  },
  {
   "cell_type": "code",
   "execution_count": 159,
   "metadata": {},
   "outputs": [
    {
     "data": {
      "text/plain": [
       "1045"
      ]
     },
     "execution_count": 159,
     "metadata": {},
     "output_type": "execute_result"
    }
   ],
   "source": [
    "len(simlex_words)"
   ]
  },
  {
   "cell_type": "markdown",
   "metadata": {},
   "source": [
    "#### OnzeTaal"
   ]
  },
  {
   "cell_type": "code",
   "execution_count": 5,
   "metadata": {},
   "outputs": [],
   "source": [
    "word_path_onze_taal = '/Users/jan/Documents/Master/Thesis/Code/Datasets/Woordenlijsten/wordlist.txt'\n",
    "\n",
    "# create set\n",
    "words_onzetaal = set([])\n",
    "with open(word_path_onze_taal) as wl:\n",
    "    for line in wl:\n",
    "        words_onzetaal.add(line.strip())"
   ]
  },
  {
   "cell_type": "markdown",
   "metadata": {},
   "source": [
    "#### CELEX"
   ]
  },
  {
   "cell_type": "code",
   "execution_count": 7,
   "metadata": {},
   "outputs": [],
   "source": [
    "# source 2 \n",
    "\n",
    "celex = os.path.join(data_path, 'CELEX-2-NL', 'DUTCH', 'DML', 'DML.CD')\n",
    "celex2 = os.path.join(data_path, 'CELEX-2-NL', 'DUTCH', 'DFW', 'DFW.CD')\n",
    "\n",
    "def extract_celex_words(celex):\n",
    "    \n",
    "    out = set([])\n",
    "\n",
    "    with open(celex) as cd:\n",
    "        for line in cd:\n",
    "\n",
    "            line = line.strip().split('\\\\')\n",
    "            out.add(line[1])\n",
    "    \n",
    "    return out\n",
    "\n",
    "# (we use two parts of celex)\n",
    "words_celex1 = extract_celex_words(celex)\n",
    "words_celex2 = extract_celex_words(celex2)\n",
    "\n",
    "words_celex = words_celex1 | words_celex2"
   ]
  },
  {
   "cell_type": "markdown",
   "metadata": {},
   "source": [
    "#### OSCAR"
   ]
  },
  {
   "cell_type": "markdown",
   "metadata": {},
   "source": [
    "The models were trained on part of the Dutch version of the Oscar corpus. We load the corpus in the form of frequency dictionaries. The dictionaries are stored as json files, which we load here."
   ]
  },
  {
   "cell_type": "code",
   "execution_count": 151,
   "metadata": {},
   "outputs": [],
   "source": [
    "wf1 = load_json('/Users/jan/Documents/Master/Thesis/Code/Datasets/word_freqs_0.json')\n",
    "wf2 = load_json('/Users/jan/Documents/Master/Thesis/Code/Datasets/word_freqs_1.json')\n",
    "wf3 = load_json('/Users/jan/Documents/Master/Thesis/Code/Datasets/word_freqs_2.json')\n",
    "wf4 = load_json('/Users/jan/Documents/Master/Thesis/Code/Datasets/word_freqs_3.json')\n",
    "wf5 = load_json('/Users/jan/Documents/Master/Thesis/Code/Datasets/word_freqs_4.json')\n",
    "wf7 = load_json('/Users/jan/Documents/Master/Thesis/Code/Datasets/word_freqs_6.json')\n",
    "wf8 = load_json('/Users/jan/Documents/Master/Thesis/Code/Datasets/word_freqs_7.json')\n"
   ]
  },
  {
   "cell_type": "markdown",
   "metadata": {},
   "source": [
    "We want to combine these into one dictionary"
   ]
  },
  {
   "cell_type": "code",
   "execution_count": 152,
   "metadata": {},
   "outputs": [],
   "source": [
    "def combine_word_frequencies(*dicts):\n",
    "    combined_freq = defaultdict(int)\n",
    "    for d in dicts:\n",
    "        for word, count in d.items():\n",
    "            combined_freq[word] += count\n",
    "    return dict(combined_freq)\n",
    "\n",
    "word_freqs_messy = combine_word_frequencies(wf1, wf2, wf3, wf4, wf5, wf7, wf8)"
   ]
  },
  {
   "cell_type": "code",
   "execution_count": 11,
   "metadata": {},
   "outputs": [
    {
     "data": {
      "text/plain": [
       "6915255"
      ]
     },
     "execution_count": 11,
     "metadata": {},
     "output_type": "execute_result"
    }
   ],
   "source": [
    "len(word_freqs_messy)"
   ]
  },
  {
   "cell_type": "markdown",
   "metadata": {},
   "source": [
    "Let's store the combined dictionary"
   ]
  },
  {
   "cell_type": "code",
   "execution_count": 13,
   "metadata": {},
   "outputs": [],
   "source": [
    "store_json('/Users/jan/Documents/Master/Thesis/Code/Datasets/Word_freqs/word_freqs_all.json', word_freqs_messy)"
   ]
  },
  {
   "cell_type": "markdown",
   "metadata": {},
   "source": [
    "And we want to clean the dictionary up a bit. This means removing punctuation marks, emoji's, etc."
   ]
  },
  {
   "cell_type": "code",
   "execution_count": 153,
   "metadata": {},
   "outputs": [],
   "source": [
    "def clean_word_frequencies(word_freq):\n",
    "    pattern = re.compile(r'[^a-zA-Z\\'\\-]')\n",
    "    cleaned_word_freq = {}\n",
    "    \n",
    "    for word, count in word_freq.items():\n",
    "        if not pattern.search(word) and not any(char.isdigit() for char in word):\n",
    "            cleaned_word_freq[word] = count\n",
    "    \n",
    "    return cleaned_word_freq\n",
    "\n",
    "word_freqs = clean_word_frequencies(word_freqs_messy)"
   ]
  },
  {
   "cell_type": "code",
   "execution_count": 154,
   "metadata": {},
   "outputs": [
    {
     "data": {
      "text/plain": [
       "5643591"
      ]
     },
     "execution_count": 154,
     "metadata": {},
     "output_type": "execute_result"
    }
   ],
   "source": [
    "len(word_freqs)"
   ]
  },
  {
   "cell_type": "code",
   "execution_count": 156,
   "metadata": {},
   "outputs": [
    {
     "name": "stdout",
     "output_type": "stream",
     "text": [
      "The corpus had 2113098722 words in total, of which 5643591 unique words\n"
     ]
    }
   ],
   "source": [
    "def sum_words(word_freqs):\n",
    "    print(f'The corpus had {sum(word_freqs.values())} words in total, of which {len(word_freqs)} unique words')\n",
    "\n",
    "sum_words(word_freqs)"
   ]
  },
  {
   "cell_type": "markdown",
   "metadata": {},
   "source": [
    "Let's store the cleaned dictionary"
   ]
  },
  {
   "cell_type": "code",
   "execution_count": 15,
   "metadata": {},
   "outputs": [],
   "source": [
    "store_json('/Users/jan/Documents/Master/Thesis/Code/Datasets/Word_freqs/word_freqs_all_clean.json', word_freqs)"
   ]
  },
  {
   "cell_type": "code",
   "execution_count": 8,
   "metadata": {},
   "outputs": [],
   "source": [
    "word_freqs = load_json('/Users/jan/Documents/Master/Thesis/Code/Datasets/word_freqs_all_clean.json')"
   ]
  },
  {
   "cell_type": "markdown",
   "metadata": {},
   "source": [
    "### Tokenizers"
   ]
  },
  {
   "cell_type": "markdown",
   "metadata": {},
   "source": [
    "Let's load the tokenizers"
   ]
  },
  {
   "cell_type": "code",
   "execution_count": 9,
   "metadata": {},
   "outputs": [],
   "source": [
    "\n",
    "# tokenizers of existing models\n",
    "tokenizer_bertje = AutoTokenizer.from_pretrained(\"GroNLP/bert-base-dutch-cased\")\n",
    "tokenizer_robbert22 = RobertaTokenizerFast.from_pretrained(\"DTAI-KULeuven/robbert-2022-dutch-base\")\n",
    "tokenizer_robbert23 = RobertaTokenizerFast.from_pretrained(\"DTAI-KULeuven/robbert-2023-dutch-large\")\n",
    "tokenizer_robbertv2 = RobertaTokenizerFast.from_pretrained(\"pdelobelle/robbert-v2-dutch-base\")\n",
    "\n",
    "# WordPiece tokenizer\n",
    "tokenizer_wp = AutoTokenizer.from_pretrained('/Users/jan/Documents/Master/Thesis/Code/Tokenizers/WP_snellius')\n",
    "\n",
    "# BPE tokenizer\n",
    "tokenizer_bpe = RobertaTokenizerFast.from_pretrained('/Users/jan/Documents/Master/Thesis/Code/Tokenizers/BPE_snellius')"
   ]
  },
  {
   "cell_type": "markdown",
   "metadata": {},
   "source": [
    "Let's load our custom tokenizer"
   ]
  },
  {
   "cell_type": "code",
   "execution_count": 10,
   "metadata": {},
   "outputs": [],
   "source": [
    "\n",
    "class CustomTokenizer:\n",
    "\n",
    "    def __init__(self, segmentation_dictionary, wp_tokenizer, max_length=None, pad_to_multiple_of=None, model_max_length=None):\n",
    "\n",
    "\n",
    "\n",
    "        self.wp_tokenizer = wp_tokenizer\n",
    "        self.wp_vocab = self.wp_tokenizer.get_vocab()\n",
    "\n",
    "        self.segmentations = {word: seg for word, seg in segmentation_dictionary.items() if len(seg) > 0}\n",
    "        self.seg_dict = {}\n",
    "\n",
    "        \n",
    "        for word, segs in self.segmentations.items():\n",
    "            out = []\n",
    "            for i, seg in enumerate(segs):\n",
    "                if i == 0:\n",
    "                    out.append(seg)\n",
    "                else:\n",
    "                    out.append('##' + seg)\n",
    "            self.seg_dict[word] = out\n",
    "        \n",
    "\n",
    "        self.segments = {seg for segs in self.seg_dict.values() for seg in segs}\n",
    "\n",
    "        self.vocab = self.wp_vocab.copy()\n",
    "        \n",
    "      \n",
    "\n",
    "        next_index = len(self.vocab)\n",
    "        \n",
    "        for element in self.segments:\n",
    "            if element not in self.vocab:\n",
    "                self.vocab[element] = next_index\n",
    "                next_index += 1\n",
    "\n",
    "\n",
    "        \n",
    "        self.vocab_size = len(self.vocab)\n",
    "        \n",
    "        self.seg_dict_numbered = {}\n",
    "\n",
    "        for word, segs in self.seg_dict.items():\n",
    "            s = []\n",
    "            for seg in segs:\n",
    "                s.append(self.vocab[seg])\n",
    "            self.seg_dict_numbered[word] = s\n",
    "        \n",
    "        \n",
    "        self.inverted_vocab = {value: key for key, value in self.vocab.items()}\n",
    "        self.max_length = max_length\n",
    "        self.pad_to_multiple_of = pad_to_multiple_of\n",
    "        self.padding_side = 'right'\n",
    "        self.model_max_length = model_max_length\n",
    "\n",
    "        ### special tokens\n",
    "\n",
    "        special_tokens = ['[UNK]', '[MASK]', '[CLS]', '[SEP]', '[PAD]']\n",
    "        special_token_ids = {}\n",
    "        \n",
    "        for token in special_tokens:\n",
    "            if token not in self.vocab:\n",
    "                self.vocab[token] = len(self.vocab)\n",
    "            special_token_ids[token] = self.vocab[token]\n",
    "        \n",
    "        self.unk_token = '[UNK]'\n",
    "        self.unk_token_id = special_token_ids['[UNK]']\n",
    "        \n",
    "        self.mask_token = '[MASK]'\n",
    "        self.mask_token_id = special_token_ids['[MASK]']\n",
    "    \n",
    "        \n",
    "        self.pad_token = '[PAD]'\n",
    "        self.pad_token_id = special_token_ids['[PAD]']\n",
    "        \n",
    "        self.bos_token = '[CLS]'\n",
    "        self.bos_token_id = special_token_ids['[CLS]']\n",
    "        \n",
    "        self.eos_token = '[SEP]'\n",
    "        self.eos_token_id = special_token_ids['[SEP]']\n",
    "        \n",
    "\n",
    "        self.special_tokens = [self.vocab['[PAD]'], self.vocab['[UNK]'], self.vocab['[CLS]'], self.vocab['[SEP]'], self.vocab['[MASK]']]\n",
    "\n",
    "        self.special_tokens_map = wp_tokenizer.special_tokens_map\n",
    "\n",
    "\n",
    "\n",
    "    def __len__(self):\n",
    "        return len(self.vocab)\n",
    "\n",
    "\n",
    "    def check_tokens_in_dict(self, ids, tokens, dic_a):\n",
    "     \n",
    "        combined_tokens = []\n",
    "        current_word = ''\n",
    "        current_ids = []\n",
    "\n",
    "        for i, token in enumerate(tokens):\n",
    "            if token.startswith('##'):\n",
    "                current_word += token[2:]\n",
    "                current_ids.append(ids[i])\n",
    "            else:\n",
    "                if current_word:\n",
    "                    combined_tokens.append((current_word, current_ids))\n",
    "                current_word = token\n",
    "                current_ids = [ids[i]]\n",
    "\n",
    "        if current_word:\n",
    "            combined_tokens.append((current_word, current_ids))\n",
    " \n",
    "        result = []\n",
    "        for word, ids_list in combined_tokens:\n",
    "            if word in dic_a:\n",
    "                result.extend(dic_a[word])  \n",
    "            else:\n",
    "                result.extend(ids_list)\n",
    "        return result\n",
    "    \n",
    "\n",
    "    def check_tokens_in_dict_v2(self, ids, tokens, dic_a):\n",
    "\n",
    "        combined_tokens = []\n",
    "        current_word = ''\n",
    "        current_tokens = []\n",
    "\n",
    "        for i, token in enumerate(tokens):\n",
    "            if token.startswith('##'):\n",
    "                current_word += token[2:]\n",
    "                current_tokens.append(token)\n",
    "            else:\n",
    "                if current_word:\n",
    "                    combined_tokens.append((current_word, current_tokens))\n",
    "        \n",
    "                current_word = token\n",
    "                current_tokens = [token]\n",
    "\n",
    "        if current_word:\n",
    "            combined_tokens.append((current_word, current_tokens))\n",
    "    \n",
    "        result = []\n",
    "        for word, tokens_list in combined_tokens:\n",
    "            if word in dic_a:\n",
    "                result.extend(dic_a[word])  \n",
    "            else:\n",
    "                result.extend(tokens_list)\n",
    "\n",
    "        return result\n",
    "\n",
    "\n",
    "\n",
    "    def get_vocab(self):\n",
    "        return self.vocab\n",
    "\n",
    "\n",
    "\n",
    "\n",
    "    def _convert_token_to_id(self, token):\n",
    "        if token in self.vocab:\n",
    "            return self.vocab[token]\n",
    "        else:\n",
    "            return self.unk_token_id\n",
    "\n",
    "    \n",
    "    def convert_tokens_to_ids(self, tokens):\n",
    "        if isinstance(tokens, list):\n",
    "            return [self._convert_token_to_id(token) for token in tokens]\n",
    "        return self._convert_token_to_id(tokens)\n",
    "\n",
    "\n",
    "\n",
    "    def _convert_id_to_token(self, id):\n",
    "        return self.inverted_vocab[id]\n",
    "\n",
    "\n",
    "    def convert_ids_to_tokens(self, ids):\n",
    "        if isinstance(ids, list):\n",
    "            return [self._convert_id_to_token(id) for id in ids]\n",
    "        return self._convert_id_to_token(ids)\n",
    "\n",
    "\n",
    "    def get_special_tokens_mask(self, token_ids, already_has_special_tokens=False):\n",
    "        return [1 if self._is_special_token(token_id) else 0 for token_id in token_ids]\n",
    "\n",
    "\n",
    "    def _is_special_token(self, token_id):\n",
    "\n",
    "        if token_id in self.special_tokens:\n",
    "            return True\n",
    "        else:\n",
    "            return False\n",
    "\n",
    "    \n",
    "\n",
    "    def pad(self, batch, return_tensors=\"pt\", pad_to_multiple_of=None, padding=True, max_length=None):\n",
    "        if pad_to_multiple_of is None:\n",
    "            pad_to_multiple_of = self.pad_to_multiple_of\n",
    "\n",
    "        input_ids_list = []\n",
    "        for dictionary in batch:\n",
    "            for key, value in dictionary.items():\n",
    "                if key == \"input_ids\":\n",
    "                    \n",
    "                    if isinstance(value, torch.Tensor):\n",
    "                        input_ids_list.append(value.tolist())\n",
    "                    else:\n",
    "                        input_ids_list.append(value)\n",
    "\n",
    "\n",
    "        max_length = max(len(x) for x in input_ids_list)\n",
    "        \n",
    "        if pad_to_multiple_of is not None:\n",
    "            max_length = (max_length + pad_to_multiple_of - 1) // pad_to_multiple_of * pad_to_multiple_of\n",
    "        \n",
    "        padded_batch = []\n",
    "        for seq in input_ids_list:\n",
    "            if len(seq) < max_length:\n",
    "                seq.extend([self.pad_token_id] * (max_length - len(seq)))\n",
    "            padded_batch.append(seq)\n",
    "        \n",
    "        attention_list = []\n",
    "        for inner_list in padded_batch:\n",
    "            p_list = [1 if value != self.pad_token_id else 0 for value in inner_list]\n",
    "            attention_list.append(p_list)\n",
    "        \n",
    "        if return_tensors == \"pt\":\n",
    "            return {'input_ids': torch.tensor(padded_batch, dtype=torch.long), 'attention_mask': torch.tensor(attention_list, dtype=torch.long)}\n",
    "        \n",
    "        return {'input_ids': padded_batch, 'attention_mask': attention_list}\n",
    "\n",
    "\n",
    "    def tokenize(self, text):\n",
    "        if isinstance(text, list):\n",
    "            tokens_list = []\n",
    "            for t in text:\n",
    "                encoded = self.wp_tokenizer(t)\n",
    "                tokens = encoded.tokens()\n",
    "                tokens = self.check_tokens_in_dict_v2(encoded['input_ids'], tokens, self.seg_dict)[1:-1]\n",
    "                tokens_list.append(tokens)\n",
    "            return tokens_list\n",
    "        else:\n",
    "            encoded = self.wp_tokenizer(text)\n",
    "            tokens = encoded.tokens()\n",
    "            tokens = self.check_tokens_in_dict_v2(encoded['input_ids'], tokens, self.seg_dict)[1:-1]\n",
    "            return tokens\n",
    "\n",
    "\n",
    "    def encode(self, text, text_pair=None, add_special_tokens=True, return_tensors=None, max_length=None, pad_to_max_length=False, truncation=False):\n",
    "        if text_pair:\n",
    "            text = f\"{text} {self.eos_token} {text_pair}\"\n",
    "\n",
    "        tokens = self.tokenize(text)\n",
    "        \n",
    "        if add_special_tokens:\n",
    "            tokens = [self.bos_token] + tokens + [self.eos_token]\n",
    "        \n",
    "        if truncation and max_length and len(tokens) > max_length:\n",
    "            tokens = tokens[:max_length]\n",
    "        \n",
    "        if pad_to_max_length and max_length and len(tokens) < max_length:\n",
    "            tokens += [self.pad_token] * (max_length - len(tokens))\n",
    "        \n",
    "        input_ids = self.convert_tokens_to_ids(tokens)\n",
    "        attention_mask = [1 if token != self.pad_token else 0 for token in tokens]\n",
    "\n",
    "        if return_tensors == \"pt\":\n",
    "            input_ids = torch.tensor([input_ids], dtype=torch.long)\n",
    "            attention_mask = torch.tensor([attention_mask], dtype=torch.long)\n",
    "        \n",
    "        return {'input_ids': input_ids, 'attention_mask': attention_mask}\n",
    "\n",
    "    def batch_encode_plus(self, texts, text_pairs=None, add_special_tokens=True, return_tensors=None, max_length=None, pad_to_max_length=False, truncation=False, pad_to_multiple_of=None):\n",
    "        batch = []\n",
    "\n",
    "        if text_pairs:\n",
    "            for text, text_pair in zip(texts, text_pairs):\n",
    "                batch.append(self.encode(\n",
    "                    text, \n",
    "                    text_pair=text_pair, \n",
    "                    add_special_tokens=add_special_tokens, \n",
    "                    return_tensors=None, \n",
    "                    max_length=max_length, \n",
    "                    pad_to_max_length=pad_to_max_length, \n",
    "                    truncation=truncation\n",
    "                ))\n",
    "        else:\n",
    "            for text in texts:\n",
    "                batch.append(self.encode(\n",
    "                    text, \n",
    "                    add_special_tokens=add_special_tokens, \n",
    "                    return_tensors=None, \n",
    "                    max_length=max_length, \n",
    "                    pad_to_max_length=pad_to_max_length, \n",
    "                    truncation=truncation\n",
    "                ))\n",
    "\n",
    "        padded_batch = self.pad(batch, return_tensors=return_tensors, pad_to_multiple_of=pad_to_multiple_of)\n",
    "\n",
    "        return padded_batch\n",
    "\n",
    "\n",
    "    def decode(self, ids, skip_special_tokens=False):\n",
    "        out = ''\n",
    "        for id in ids:\n",
    "            token = self._convert_id_to_token(id)\n",
    "            if skip_special_tokens and self._is_special_token(id):\n",
    "                continue\n",
    "            if token[:2] == '##':\n",
    "                out += token[2:]\n",
    "            else:\n",
    "                out += ' ' + token\n",
    "        \n",
    "        \n",
    "        out = re.sub(r'\\s+([?.!,\\'\"])', r'\\1', out)\n",
    "        return out.strip()\n",
    "\n",
    "\n",
    "    def __call__(self, text, text_pair=None, add_special_tokens=True, return_tensors=None, max_length=None, pad_to_max_length=False, truncation=False, pad_to_multiple_of=None):\n",
    "        if isinstance(text, str):\n",
    "      \n",
    "            return self.encode(\n",
    "                text, \n",
    "                text_pair=text_pair, \n",
    "                add_special_tokens=add_special_tokens, \n",
    "                return_tensors=return_tensors, \n",
    "                max_length=max_length, \n",
    "                pad_to_max_length=pad_to_max_length, \n",
    "                truncation=truncation\n",
    "            )\n",
    "        elif isinstance(text, list) and all(isinstance(t, str) for t in text):\n",
    "      \n",
    "            return self.batch_encode_plus(\n",
    "                text, \n",
    "                text_pairs=text_pair, \n",
    "                add_special_tokens=add_special_tokens, \n",
    "                return_tensors=return_tensors, \n",
    "                max_length=max_length, \n",
    "                pad_to_max_length=pad_to_max_length, \n",
    "                truncation=truncation, \n",
    "                pad_to_multiple_of=pad_to_multiple_of\n",
    "            )\n",
    "        else:\n",
    "            raise ValueError(\"Input text should be either a single string or a list of strings.\")\n",
    "\n",
    "    \n",
    "    def __len__(self):\n",
    "        return self.vocab_size"
   ]
  },
  {
   "cell_type": "code",
   "execution_count": 12,
   "metadata": {},
   "outputs": [],
   "source": [
    "path_to_dict = '/Users/jan/Documents/Master/Thesis/Code/Tokenizers/segmentation_dictionary_final.json'\n",
    "path_to_tokenizer = \"/Users/jan/Documents/Master/Thesis/Code/Tokenizers/HELP/MORF/help_2815\"\n",
    "\n",
    "segmentation_dictionary = load_json(path_to_dict)\n",
    "help_tokenizer = AutoTokenizer.from_pretrained(path_to_tokenizer)\n",
    "\n",
    "tokenizer_morf = CustomTokenizer(segmentation_dictionary, help_tokenizer)"
   ]
  },
  {
   "cell_type": "markdown",
   "metadata": {},
   "source": [
    "### Models"
   ]
  },
  {
   "cell_type": "markdown",
   "metadata": {},
   "source": [
    "Let's first load the for masked language modelling, for which they were pretrained"
   ]
  },
  {
   "cell_type": "code",
   "execution_count": 15,
   "metadata": {},
   "outputs": [
    {
     "name": "stderr",
     "output_type": "stream",
     "text": [
      "Some weights of RobertaModel were not initialized from the model checkpoint at /Users/jan/Documents/Master/Thesis/Code/Models/MORF/x4/x4 and are newly initialized: ['roberta.pooler.dense.weight', 'roberta.pooler.dense.bias']\n",
      "You should probably TRAIN this model on a down-stream task to be able to use it for predictions and inference.\n",
      "Some weights of RobertaModel were not initialized from the model checkpoint at /Users/jan/Documents/Master/Thesis/Code/Models/BPE/x4/x4 and are newly initialized: ['roberta.pooler.dense.weight', 'roberta.pooler.dense.bias']\n",
      "You should probably TRAIN this model on a down-stream task to be able to use it for predictions and inference.\n",
      "Some weights of RobertaModel were not initialized from the model checkpoint at /Users/jan/Documents/Master/Thesis/Code/Models/WP/x4/x4 and are newly initialized: ['roberta.pooler.dense.weight', 'roberta.pooler.dense.bias']\n",
      "You should probably TRAIN this model on a down-stream task to be able to use it for predictions and inference.\n"
     ]
    }
   ],
   "source": [
    "model_morf = RobertaModel.from_pretrained('/Users/jan/Documents/Master/Thesis/Code/Models/MORF/x4/x4')\n",
    "model_bpe = RobertaModel.from_pretrained('/Users/jan/Documents/Master/Thesis/Code/Models/BPE/x4/x4')\n",
    "model_wp = RobertaModel.from_pretrained('/Users/jan/Documents/Master/Thesis/Code/Models/WP/x4/x4')"
   ]
  },
  {
   "cell_type": "code",
   "execution_count": 14,
   "metadata": {},
   "outputs": [
    {
     "name": "stderr",
     "output_type": "stream",
     "text": [
      "Some weights of RobertaModel were not initialized from the model checkpoint at DTAI-KULeuven/robbert-2022-dutch-base and are newly initialized: ['roberta.pooler.dense.weight', 'roberta.pooler.dense.bias']\n",
      "You should probably TRAIN this model on a down-stream task to be able to use it for predictions and inference.\n",
      "Some weights of RobertaModel were not initialized from the model checkpoint at DTAI-KULeuven/robbert-2023-dutch-large and are newly initialized: ['roberta.pooler.dense.weight', 'roberta.pooler.dense.bias']\n",
      "You should probably TRAIN this model on a down-stream task to be able to use it for predictions and inference.\n",
      "Some weights of BertModel were not initialized from the model checkpoint at GroNLP/bert-base-dutch-cased and are newly initialized: ['bert.pooler.dense.weight', 'bert.pooler.dense.bias']\n",
      "You should probably TRAIN this model on a down-stream task to be able to use it for predictions and inference.\n"
     ]
    }
   ],
   "source": [
    "model_robbertv2 = RobertaModel.from_pretrained(\"pdelobelle/robbert-v2-dutch-base\")\n",
    "model_robbert22 = RobertaModel.from_pretrained(\"DTAI-KULeuven/robbert-2022-dutch-base\")\n",
    "model_robbert23 = RobertaModel.from_pretrained(\"DTAI-KULeuven/robbert-2023-dutch-large\")\n",
    "model_bertje = BertModel.from_pretrained(\"GroNLP/bert-base-dutch-cased\")"
   ]
  },
  {
   "cell_type": "code",
   "execution_count": 553,
   "metadata": {},
   "outputs": [],
   "source": [
    "model_morf_masked = RobertaForMaskedLM.from_pretrained('/Users/jan/Documents/Master/Thesis/Code/Models/MORF/x4/x4')\n",
    "model_bpe_masked = RobertaForMaskedLM.from_pretrained('/Users/jan/Documents/Master/Thesis/Code/Models/BPE/x4/x4')\n",
    "model_wp_masked = RobertaForMaskedLM.from_pretrained('/Users/jan/Documents/Master/Thesis/Code/Models/WP/x4/x4')"
   ]
  },
  {
   "cell_type": "markdown",
   "metadata": {},
   "source": [
    "Test"
   ]
  },
  {
   "cell_type": "code",
   "execution_count": 556,
   "metadata": {},
   "outputs": [
    {
     "data": {
      "text/plain": [
       "[{'score': 0.26995694637298584,\n",
       "  'token': 16825,\n",
       "  'token_str': 'nu',\n",
       "  'sequence': 'nu heb ik een vakantie geboekt'},\n",
       " {'score': 0.06926373392343521,\n",
       "  'token': 21981,\n",
       "  'token_str': 'hier',\n",
       "  'sequence': 'hier heb ik een vakantie geboekt'},\n",
       " {'score': 0.05583801493048668,\n",
       "  'token': 20181,\n",
       "  'token_str': 'zo',\n",
       "  'sequence': 'zo heb ik een vakantie geboekt'},\n",
       " {'score': 0.03687339276075363,\n",
       "  'token': 19698,\n",
       "  'token_str': 'zelf',\n",
       "  'sequence': 'zelf heb ik een vakantie geboekt'},\n",
       " {'score': 0.030741985887289047,\n",
       "  'token': 20075,\n",
       "  'token_str': 'dan',\n",
       "  'sequence': 'dan heb ik een vakantie geboekt'}]"
      ]
     },
     "execution_count": 556,
     "metadata": {},
     "output_type": "execute_result"
    }
   ],
   "source": [
    "fill_mask_morf = pipeline(\n",
    "    \"fill-mask\",\n",
    "    model=model_morf_masked,\n",
    "    tokenizer=tokenizer_morf\n",
    ")\n",
    "\n",
    "fill_mask_morf('[MASK] heb ik een vakantie geboekt')"
   ]
  },
  {
   "cell_type": "code",
   "execution_count": 97,
   "metadata": {},
   "outputs": [
    {
     "data": {
      "text/plain": [
       "[{'score': 0.14487196505069733,\n",
       "  'token': 19429,\n",
       "  'token_str': 'onlangs',\n",
       "  'sequence': 'onlangs heb ik een vakantie geboekt'},\n",
       " {'score': 0.07995464652776718,\n",
       "  'token': 3920,\n",
       "  'token_str': 'nu',\n",
       "  'sequence': 'nu heb ik een vakantie geboekt'},\n",
       " {'score': 0.04521726071834564,\n",
       "  'token': 35483,\n",
       "  'token_str': 'recent',\n",
       "  'sequence': 'recent heb ik een vakantie geboekt'},\n",
       " {'score': 0.04469139873981476,\n",
       "  'token': 3068,\n",
       "  'token_str': 'hier',\n",
       "  'sequence': 'hier heb ik een vakantie geboekt'},\n",
       " {'score': 0.043206147849559784,\n",
       "  'token': 9055,\n",
       "  'token_str': 'helaas',\n",
       "  'sequence': 'helaas heb ik een vakantie geboekt'}]"
      ]
     },
     "execution_count": 97,
     "metadata": {},
     "output_type": "execute_result"
    }
   ],
   "source": [
    "fill_mask_bpe = pipeline(\n",
    "    \"fill-mask\",\n",
    "    model=model_bpe_masked,\n",
    "    tokenizer=tokenizer_bpe\n",
    ")\n",
    "\n",
    "fill_mask_bpe('<mask> heb ik een vakantie geboekt')"
   ]
  },
  {
   "cell_type": "code",
   "execution_count": 96,
   "metadata": {},
   "outputs": [
    {
     "data": {
      "text/plain": [
       "[{'score': 0.10433828830718994,\n",
       "  'token': 17995,\n",
       "  'token_str': 'vandaag',\n",
       "  'sequence': 'vandaag heb ik een vakantie geboekt'},\n",
       " {'score': 0.10200200229883194,\n",
       "  'token': 21862,\n",
       "  'token_str': 'onlangs',\n",
       "  'sequence': 'onlangs heb ik een vakantie geboekt'},\n",
       " {'score': 0.07347237318754196,\n",
       "  'token': 22881,\n",
       "  'token_str': 'recent',\n",
       "  'sequence': 'recent heb ik een vakantie geboekt'},\n",
       " {'score': 0.06246524304151535,\n",
       "  'token': 19073,\n",
       "  'token_str': 'helaas',\n",
       "  'sequence': 'helaas heb ik een vakantie geboekt'},\n",
       " {'score': 0.04347207024693489,\n",
       "  'token': 17110,\n",
       "  'token_str': 'zelf',\n",
       "  'sequence': 'zelf heb ik een vakantie geboekt'}]"
      ]
     },
     "execution_count": 96,
     "metadata": {},
     "output_type": "execute_result"
    }
   ],
   "source": [
    "fill_mask_wp = pipeline(\n",
    "    \"fill-mask\",\n",
    "    model=model_wp_masked,\n",
    "    tokenizer=tokenizer_wp\n",
    ")\n",
    "\n",
    "fill_mask_wp('[MASK] heb ik een vakantie geboekt')"
   ]
  },
  {
   "cell_type": "markdown",
   "metadata": {},
   "source": [
    "## Compare and evaluate the tokenizers"
   ]
  },
  {
   "cell_type": "markdown",
   "metadata": {},
   "source": [
    "### Helper functions for comparisons and evaluation"
   ]
  },
  {
   "cell_type": "markdown",
   "metadata": {},
   "source": [
    "#### Helper functions"
   ]
  },
  {
   "cell_type": "code",
   "execution_count": 19,
   "metadata": {},
   "outputs": [],
   "source": [
    "def sort_dictionary(df, descending=True):\n",
    "\n",
    "    if descending:\n",
    "         sorted_dict = dict(sorted(df.items(), key=lambda item: item[1], reverse=True))\n",
    "    else:\n",
    "        sorted_dict = dict(sorted(df.items(), key=lambda item: item[1]))\n",
    "    \n",
    "    return sorted_dict"
   ]
  },
  {
   "cell_type": "markdown",
   "metadata": {},
   "source": [
    "#### Functions for dictionaries and sets"
   ]
  },
  {
   "cell_type": "code",
   "execution_count": 20,
   "metadata": {},
   "outputs": [],
   "source": [
    "\n",
    "def return_morphemes(df, form='list'):\n",
    "\n",
    "    out = set([])\n",
    "    for word, segs in df.items():\n",
    "        for seg in segs:\n",
    "            out.add(seg)\n",
    "    \n",
    "    if form == 'list':\n",
    "        return list(out)\n",
    "    else:\n",
    "        return out\n",
    "\n",
    "\n",
    "\n",
    "def compare_only_dictionaries(dict1, dict2, return_dict=False):\n",
    "\n",
    "    diff = []\n",
    "    not_in_2 = []\n",
    "    not_in_1 = []\n",
    "    \n",
    "    for word, segs in dict1.items():\n",
    "        if word in dict2:\n",
    "            if not segs == dict2[word]:\n",
    "                diff.append(word)\n",
    "        else:\n",
    "            not_in_2.append(word)\n",
    "    \n",
    "    for word, segs in dict2.items():\n",
    "        if word in dict1:\n",
    "            if not segs == dict1[word]:\n",
    "                diff.append(word)\n",
    "        else:\n",
    "            not_in_1.append(word)\n",
    "\n",
    "    dic = {word: (dict1[word], dict2[word]) for word in diff}\n",
    "\n",
    "    if return_dict:\n",
    "        return dic, not_in_2, not_in_1\n",
    "    else:\n",
    "        return diff, not_in_2, not_in_1\n",
    "\n",
    "\n",
    "def return_words_not_in_dict(df, words):\n",
    "    out = []\n",
    "    for word in words:\n",
    "        if word not in df:\n",
    "            out.append(word)\n",
    "    return out\n",
    "\n",
    "\n",
    "\n",
    "def compare_dict_simlex(sim, dic, print_info=True):\n",
    "\n",
    "    incl = []\n",
    "    excl = []\n",
    "    mult = 0\n",
    "\n",
    "    for word in sim:\n",
    "        if word in dic:\n",
    "            incl.append(word)\n",
    "            if len(dic[word]) > 1:\n",
    "                mult += 1\n",
    "        else:\n",
    "            excl.append(word)\n",
    "\n",
    "    p_in = 100 * len(incl) / len(sim)\n",
    "    p_mult = 100 * mult / len(sim)\n",
    "    \n",
    "    if print_info:\n",
    "        print(f'{round(p_in, 2)}% of words in simlex are in the dictionary')\n",
    "        print(f'{round(p_mult, 2)}% of words in simlex are in the dictionary and have more than one segment')\n",
    "\n",
    "\n",
    "\n",
    "def return_number_of_morphemes(dic):\n",
    "    out = set([])\n",
    "    for word, segs in dic.items():\n",
    "        for seg in segs:\n",
    "            out.add(seg)\n",
    "    return len(out)\n",
    "\n",
    "\n",
    "def count_morphemes_extra(df, print_info=True):\n",
    "\n",
    "    total = set([])\n",
    "    begin = set([])\n",
    "    mid = set([])\n",
    "\n",
    "    for word, segs in df.items():\n",
    "        begin.add(segs[0])\n",
    "        if len(segs) > 1:\n",
    "           for item in segs[1:]:\n",
    "               mid.add(item)\n",
    "        for seg in segs:\n",
    "            total.add(seg)\n",
    "\n",
    "    not_at_begin = mid - begin\n",
    "\n",
    "    size = len(total) + len(begin) - len(not_at_begin)\n",
    "\n",
    "    if print_info:\n",
    "    \n",
    "        print(f'There are {len(total)} morphemes, out of these {len(begin)} appear at the begining of a word')\n",
    "        print(f'{len(not_at_begin)} morphemes do not appear at the beginning. This means that the vocabulary has a size of {size} tokens (only lowercase).')\n",
    "    \n",
    "    else:\n",
    "        return size\n",
    "\n",
    "\n",
    "def in_corpus_or_not(word_freqs, words):\n",
    "\n",
    "    words_in = {}\n",
    "    words_out = []\n",
    "\n",
    "    if isinstance(words, dict):\n",
    "        words_in = {}\n",
    "        words_out = {}\n",
    "        for word, segs in words.items():\n",
    "            if word in word_freqs:\n",
    "                words_in[word] = word_freqs[word]            \n",
    "            else:\n",
    "                words_out[word] = segs\n",
    "    else:\n",
    "        words_in = {}\n",
    "        words_out = []\n",
    "        for word in words:\n",
    "            if word in word_freqs:\n",
    "                words_in[word] = word_freqs[word]            \n",
    "            else:\n",
    "                words_out.append(word)\n",
    "\n",
    "    return words_in, words_out\n",
    "\n",
    "def sort_by_number_of_segements(dic):\n",
    "\n",
    "    n1 = {}\n",
    "    n2 = {}\n",
    "    n3 = {}\n",
    "    n4plus = {}\n",
    "\n",
    "    for word, segs in dic.items():\n",
    "        if len(segs) == 1:\n",
    "            n1[word] = segs\n",
    "        elif len(segs) == 2:\n",
    "            n2[word] = segs\n",
    "        elif len(segs) == 3:\n",
    "            n3[word] = segs\n",
    "        else:\n",
    "            n4plus[word] = segs\n",
    "    \n",
    "    return n1, n2, n3, n4plus\n",
    "\n"
   ]
  },
  {
   "cell_type": "code",
   "execution_count": 381,
   "metadata": {},
   "outputs": [],
   "source": [
    "word_freqs = word_freqs\n",
    "words_celex = words_celex\n",
    "words_onzetaal = words_onzetaal\n",
    "simlex_words = simlex_words\n",
    "simlex_pairs = simlex_pairs\n",
    "segmentation_dictionary = segmentation_dictionary"
   ]
  },
  {
   "cell_type": "code",
   "execution_count": 35,
   "metadata": {},
   "outputs": [],
   "source": [
    "complex_words_2_plus = {word: segmentations for word, segmentations in segmentation_dictionary.items() if len(segmentations) >= 2}\n",
    "complex_words_3_plus = {word: segmentations for word, segmentations in segmentation_dictionary.items() if len(segmentations) >= 3}\n",
    "complex_words_4_plus = {word: segmentations for word, segmentations in segmentation_dictionary.items() if len(segmentations) >= 4}"
   ]
  },
  {
   "cell_type": "code",
   "execution_count": 36,
   "metadata": {},
   "outputs": [
    {
     "name": "stdout",
     "output_type": "stream",
     "text": [
      "Number of words in segmentation dictionary seen during training: 503615\n",
      "Number of words in the segmentation dictionary not seen during training: 38886\n"
     ]
    }
   ],
   "source": [
    "seg_dict_in_corpus, seg_dict_not_in_corpus = in_corpus_or_not(word_freqs, segmentation_dictionary)\n",
    "\n",
    "print('Number of words in segmentation dictionary seen during training:', len(seg_dict_in_corpus))\n",
    "print('Number of words in the segmentation dictionary not seen during training:', len(seg_dict_not_in_corpus))"
   ]
  },
  {
   "cell_type": "code",
   "execution_count": 37,
   "metadata": {},
   "outputs": [
    {
     "name": "stdout",
     "output_type": "stream",
     "text": [
      "Number of words in the segmentation dictionary not seen during training: 38886\n",
      "Of which with 1 segment: 265\n",
      "Of which with 2 segments: 12687\n",
      "Of which with 3 segments: 17732\n",
      "Of which with 4 or more segments: 8202\n"
     ]
    }
   ],
   "source": [
    "seg_dict_not_in_corpus_1, seg_dict_not_in_corpus_2, seg_dict_not_in_corpus_3, seg_dict_not_in_corpus_4_plus = sort_by_number_of_segements(seg_dict_not_in_corpus)\n",
    "\n",
    "print('Number of words in the segmentation dictionary not seen during training:', len(seg_dict_not_in_corpus))\n",
    "print('Of which with 1 segment:', len(seg_dict_not_in_corpus_1))\n",
    "print('Of which with 2 segments:', len(seg_dict_not_in_corpus_2))\n",
    "print('Of which with 3 segments:', len(seg_dict_not_in_corpus_3))\n",
    "print('Of which with 4 or more segments:', len(seg_dict_not_in_corpus_4_plus))"
   ]
  },
  {
   "cell_type": "code",
   "execution_count": 38,
   "metadata": {},
   "outputs": [
    {
     "name": "stdout",
     "output_type": "stream",
     "text": [
      "Number of words in the word set seen during training: 351489\n",
      "Number of words in the the word set not seen during training: 182546\n"
     ]
    }
   ],
   "source": [
    "word_set = words_celex | words_onzetaal | set(simlex_words)\n",
    "\n",
    "words_in_corpus, words_not_in_corpus = in_corpus_or_not(word_freqs, word_set)\n",
    "\n",
    "print('Number of words in the word set seen during training:', len(words_in_corpus))\n",
    "print('Number of words in the the word set not seen during training:', len(words_not_in_corpus))"
   ]
  },
  {
   "cell_type": "markdown",
   "metadata": {},
   "source": [
    "#### Functions for tokenizers"
   ]
  },
  {
   "cell_type": "code",
   "execution_count": 21,
   "metadata": {},
   "outputs": [],
   "source": [
    "\n",
    "\n",
    "def tokenizer_segmentations(words, tokenizer, only_splits=False):\n",
    "    \n",
    "    segs = {}\n",
    "\n",
    "    for word in words:\n",
    "        tokenization = tokenizer.tokenize(word)\n",
    "        tokenization = [word.replace('Ġ', '') for word in tokenization]\n",
    "        tokenization = [word.replace('##', '') for word in tokenization]\n",
    "        segs[word] = tokenization\n",
    "    \n",
    "    if only_splits:\n",
    "        return {word: seg for word, seg in segs.items() if len(seg) > 1}\n",
    "    else:\n",
    "        return segs\n",
    "\n",
    "\n",
    "def compare_tokenizer_with_celex(df, tokenizer):\n",
    "\n",
    "    words = [word for word in df]\n",
    "    segs = tokenizer_segmentations(words, tokenizer)\n",
    "\n",
    "    words_same = []\n",
    "    words_diff = []\n",
    "    diff = {}\n",
    "\n",
    "    for word in df:\n",
    "        if df[word] == segs[word]:\n",
    "            words_same.append(word)\n",
    "        else:\n",
    "            words_diff.append(word)\n",
    "    \n",
    "    diff = {}\n",
    "    for word in words_diff:\n",
    "        if len(segs[word]) >= 2:\n",
    "            c = {}\n",
    "            c['CELEX'] = df[word]\n",
    "            c['tokenizer'] = segs[word]\n",
    "            diff[word] = c\n",
    "    \n",
    "    return words_same, words_diff, diff\n",
    "\n",
    "\n",
    "def compare_tokenizer_segmentations(words, *tokenizers):\n",
    "\n",
    "    results = {}\n",
    "\n",
    "    for tokenizer in tokenizers:\n",
    "        results[tokenizer] = tokenizer_segmentations(words, tokenizer)\n",
    "    \n",
    "    words_same = []\n",
    "    words_diff = []\n",
    "\n",
    "    for word in words:\n",
    "        comp = {}\n",
    "        for tokenizer in results:\n",
    "            comp[tokenizer] = results[tokenizer][word]\n",
    "        iterator = iter(comp.values())\n",
    "        first_value = next(iterator)\n",
    "        if all(value == first_value for value in iterator):\n",
    "            words_same.append(word)\n",
    "        else:\n",
    "            words_diff.append(word)\n",
    "    \n",
    "    diff = {}\n",
    "    for word in words_diff:\n",
    "        c = {}\n",
    "        for i, tokenizer in enumerate(tokenizers):\n",
    "            c[i+1] = results[tokenizer][word]\n",
    "        diff[word] = c\n",
    "\n",
    "    \n",
    "    if len(tokenizers) == 2:\n",
    "        print(f'{len(words_same)} words out of the {len(words)} are tokenized in the same way by both tokenizers')\n",
    "    else:\n",
    "        print(f'{len(words_same)} words out of the {len(words)} are tokenized in the same way by all {len(tokenizers)} tokenizers')\n",
    "\n",
    "    return words_same, words_diff, diff\n",
    "\n",
    "\n",
    "def segmented_by_tokenizer(words, tokenizer):\n",
    "\n",
    "    tokenizations = tokenizer_segmentations(words, tokenizer)\n",
    "\n",
    "    split = {}\n",
    "    no_split = []\n",
    "\n",
    "    for word, tokenization in tokenizations.items():\n",
    "        if len(tokenization) >= 2:\n",
    "            split[word] = tokenization\n",
    "        else:\n",
    "            no_split.append(word)\n",
    "    \n",
    "    return no_split, split\n",
    "    \n",
    "\n"
   ]
  },
  {
   "cell_type": "code",
   "execution_count": 40,
   "metadata": {},
   "outputs": [],
   "source": [
    "training_words_not_split_bpe, training_words_split_bpe = segmented_by_tokenizer(words_in_corpus, tokenizer_bpe)\n",
    "training_words_not_split_wp, training_words_split_wp = segmented_by_tokenizer(words_in_corpus, tokenizer_wp)\n",
    "training_words_not_split_morf, training_words_split_morf = segmented_by_tokenizer(words_in_corpus, tokenizer_morf)"
   ]
  },
  {
   "cell_type": "code",
   "execution_count": null,
   "metadata": {},
   "outputs": [],
   "source": []
  },
  {
   "cell_type": "markdown",
   "metadata": {},
   "source": [
    "#### Functions to compare with text corpus"
   ]
  },
  {
   "cell_type": "markdown",
   "metadata": {},
   "source": [
    "Here are some functions that relate to a text corpus. The text corpus must have the form of a dictionary with unique words as key and the number of occurences in the corpus as value."
   ]
  },
  {
   "cell_type": "code",
   "execution_count": 22,
   "metadata": {},
   "outputs": [],
   "source": [
    "# this function counts how many of the words in a dataframe occur at least once in the corpus, which is printed\n",
    "# it returns two lists, one with the words in the corpus, one with the words not in the corpus\n",
    "# update: now also returns frequencies\n",
    "def dataset_in_corpus(df, word_freqs, lower=False, print_info=True):\n",
    "\n",
    "    words_in = {}\n",
    "    words_out = []\n",
    "\n",
    "    if lower:\n",
    "\n",
    "        word_freqs_lower = {key.lower(): value for key, value in word_freqs.items()}\n",
    "\n",
    "        for word in df:\n",
    "            if word in word_freqs or word in word_freqs_lower:\n",
    "                if word in words_in:\n",
    "                    if word in word_freqs:\n",
    "                        words_in[word] += word_freqs[word]\n",
    "                    else:\n",
    "                        words_in[word] += word_freqs_lower[word]\n",
    "                else:\n",
    "                    if word in word_freqs:\n",
    "                        words_in[word] = word_freqs[word]\n",
    "                    else:\n",
    "                        words_in[word] = word_freqs_lower[word]\n",
    "\n",
    "            else:\n",
    "                words_out.append(word)\n",
    "    \n",
    "    else:\n",
    "    \n",
    "        for word in df:\n",
    "            if word in word_freqs:\n",
    "                if word in words_in:\n",
    "                    words_in[word] += word_freqs[word]\n",
    "                else:\n",
    "                    words_in[word] = word_freqs[word]\n",
    "            \n",
    "            else:\n",
    "                words_out.append(word)\n",
    "\n",
    "    \n",
    "    n_in = len(words_in)\n",
    "    n_out = len(words_out)\n",
    "    \n",
    "    if print_info:\n",
    "        print(f'{round(100 * n_in / (n_in + n_out), 1)}% of words in the dataset are in the corpus')\n",
    "        print(f'{round(100 * n_out / (n_in + n_out), 1)}% of words are not\\n')\n",
    "\n",
    "    return words_in, words_out\n",
    "\n",
    "\n",
    "\n",
    "# this function calculates the number of words in the corpus that are in a dataframe. \n",
    "# two prints are made: one for every word in the corpus that is in the dataframe, one for every unique word in the corpus that is in the dataframe\n",
    "# the function returns four dictionaries (in/not in dataframe - all/unique)\n",
    "def corpus_in_dataset(df, word_freqs, lower=False, print_info=True):\n",
    "\n",
    "    n_in = 0\n",
    "    n_out = 0\n",
    "\n",
    "    n_in_abs = 0\n",
    "    n_out_abs = 0\n",
    "\n",
    "    words_in = []\n",
    "    words_out = []\n",
    "\n",
    "    if lower:\n",
    "\n",
    "        for word in word_freqs:\n",
    "            if word in df or word.lower() in df:\n",
    "                n_in += word_freqs[word]\n",
    "                n_in_abs += 1\n",
    "                words_in.append(word)\n",
    "            else:\n",
    "                n_out += word_freqs[word]\n",
    "                n_out_abs += 1\n",
    "                words_out.append(word)\n",
    "    \n",
    "    else:\n",
    "\n",
    "        for word in word_freqs:\n",
    "            if word in df:\n",
    "                n_in += word_freqs[word]\n",
    "                n_in_abs += 1\n",
    "                words_in.append(word)\n",
    "            else:\n",
    "                n_out += word_freqs[word]\n",
    "                n_out_abs += 1\n",
    "                words_out.append(word)\n",
    "    \n",
    "    if print_info:\n",
    "        print(f'{round(100 * n_in / (n_in + n_out), 1)}% of words in the corpus are in the dataset')\n",
    "        print(f'{round(100 * n_out / (n_in + n_out), 1)}% of words are not\\n')\n",
    "\n",
    "        print(f'{round(100 * n_in_abs / (n_in_abs + n_out_abs), 1)}% of unique words in the corpus are in the dataset')\n",
    "        print(f'{round(100 * n_out_abs / (n_in_abs + n_out_abs), 1)}% of unique words are not\\n')\n",
    "\n",
    "    return words_in, words_out, n_in, n_out, n_in_abs, n_out_abs\n",
    "\n",
    "\n",
    "\n",
    "\n",
    "# this function uses the previous two functions to give a 'complete' picture of the relationship between a dataframe and the corpus\n",
    "def compare_dataset_and_corpus(df, word_freqs, lower_=False, print_info_=True):\n",
    "\n",
    "    n_corpus = sum(word_freqs.values())\n",
    "    n_dataset = len(df)\n",
    "\n",
    "    if print_info_:\n",
    "        print(f'There are {n_corpus} words in the corpus')\n",
    "        print(f'There are {n_dataset} words in the dataset\\n')\n",
    "\n",
    "    a, b, c, d, e, f = corpus_in_dataset(df, word_freqs, lower=lower_, print_info=print_info_)\n",
    "    g, h = dataset_in_corpus(df, word_freqs, lower=lower_, print_info=print_info_)\n",
    "    \n",
    "    #return g, b, f\n",
    "    return {'in both': g, 'not in dataset': b, 'not in corpus': h, 'n in both': c, 'n not in dataset': d, 'n in corpus': len(g), 'n not in corpus': len(h)}\n",
    "\n"
   ]
  },
  {
   "cell_type": "markdown",
   "metadata": {},
   "source": [
    "#### Functions to evaluate whether tokenizers segment morphologically"
   ]
  },
  {
   "cell_type": "code",
   "execution_count": 106,
   "metadata": {},
   "outputs": [],
   "source": [
    "\n",
    "def check_segmentation_correspondence(dict_a, dict_b):\n",
    "    true_dict = {}\n",
    "    false_dict = {}\n",
    "\n",
    "    for word, segments_a in dict_a.items():\n",
    "        if word in dict_b:\n",
    "            segments_b = dict_b[word]\n",
    "   \n",
    "            segmentation_points_a = set()\n",
    "            position = 0\n",
    "            for segment in segments_a[:-1]:  \n",
    "                position += len(segment)\n",
    "                segmentation_points_a.add(position)\n",
    "            \n",
    "            segmentation_points_b = set()\n",
    "            position = 0\n",
    "            for segment in segments_b[:-1]:  \n",
    "                position += len(segment)\n",
    "                segmentation_points_b.add(position)\n",
    "\n",
    "            if segmentation_points_a.issubset(segmentation_points_b):\n",
    "                true_dict[word] = segments_a\n",
    "            else:\n",
    "                false_dict[word] = segments_a\n",
    "        else:\n",
    "            false_dict[word] = segments_a\n",
    "\n",
    "    return true_dict, false_dict\n",
    "\n",
    "\n",
    "\n",
    "def does_tokenizer_segment_morphologically(tokenizer, words, seg_dict):\n",
    "\n",
    "    if tokenizer == tokenizer_bpe:\n",
    "        tok = 'BPE'\n",
    "    if tokenizer == tokenizer_wp:\n",
    "        tok = 'WordPiece'\n",
    "    if tokenizer == tokenizer_morf:\n",
    "        tok = 'MORF'\n",
    "    if tokenizer == tokenizer_bertje:\n",
    "        tok = 'BERTje'\n",
    "    if tokenizer == tokenizer_robbertv2:\n",
    "        tok = 'RobBERT v2'\n",
    "    if tokenizer == tokenizer_robbert22:\n",
    "        tok = 'RobBERT 22'\n",
    "    if tokenizer == tokenizer_robbert23:\n",
    "        tok = 'RobBERT 23'\n",
    "    \n",
    "\n",
    "\n",
    "    print(f\"Tokenizer: {tok}\\n\")\n",
    "\n",
    "    segmentations = tokenizer_segmentations(words, tokenizer, only_splits=True)\n",
    "    \n",
    "    print(f'Number of words: {len(words)}')\n",
    "    print(f'Number of words not split up: {len(words) - len(segmentations)}')\n",
    "    print(f'Number of words split up: {len(segmentations)}')\n",
    "\n",
    "\n",
    "    # in segmentation dictionary\n",
    "\n",
    "    seg_in_dict = {}\n",
    "\n",
    "    for word, segs in segmentations.items():\n",
    "        if word in segmentation_dictionary:\n",
    "            seg_in_dict[word] = segs\n",
    "    \n",
    "    print(f'Number of segmented words in segmentation dictionary: {len(seg_in_dict)}')\n",
    "\n",
    "    # along morphologcal boundaries\n",
    "\n",
    "    along_morph_boundaries, not_along_morph_boundaries = check_segmentation_correspondence(seg_in_dict, seg_dict)\n",
    "\n",
    "    print(f'Number of words segmented along morphological boundaries: {len(along_morph_boundaries)}')\n",
    "    print(f'Number of words not segmented along morphological boundaries: {len(not_along_morph_boundaries)}')\n",
    "\n",
    "\n",
    "    # segmented equal to segmentation dictionary\n",
    "\n",
    "    equal = {}\n",
    "\n",
    "    for word, segs in seg_in_dict.items():\n",
    "        if segs == segmentation_dictionary[word]:\n",
    "            equal[word] = segs\n",
    "    \n",
    "    print(f'Number of words segmented identically to segmentation dictionary: {len(equal)}')\n",
    "\n",
    "\n",
    "\n",
    "def return_does_tokenizer_segment_morphologically(tokenizer, words, seg_dict, return_dicts=False, return_numbers=False):\n",
    "\n",
    "\n",
    "    segmentations = tokenizer_segmentations(words, tokenizer, only_splits=True)\n",
    "    not_split = [word for word in words if not word in segmentations]\n",
    "\n",
    "    # in segmentation dictionary\n",
    "\n",
    "\n",
    "\n",
    "    seg_in_dict = {}\n",
    "    \n",
    "\n",
    "    for word, segs in segmentations.items():\n",
    "        if word in segmentation_dictionary:\n",
    "            seg_in_dict[word] = segs\n",
    "    \n",
    "\n",
    "    # along morphologcal boundaries\n",
    "\n",
    "    along_morph_boundaries, not_along_morph_boundaries = check_segmentation_correspondence(seg_in_dict, seg_dict)\n",
    "\n",
    "\n",
    "    # segmented equal to segmentation dictionary\n",
    "\n",
    "    equal = {}\n",
    "\n",
    "    for word, segs in seg_in_dict.items():\n",
    "        if segs == segmentation_dictionary[word]:\n",
    "            equal[word] = segs\n",
    "\n",
    "    if return_numbers:\n",
    "        return {len(not_split), len(along_morph_boundaries), len(not_along_morph_boundaries)}\n",
    "    \n",
    "    if return_dicts:\n",
    "        return not_split, along_morph_boundaries, not_along_morph_boundaries\n",
    "    \n",
    "    return list(not_split), list(along_morph_boundaries), list(not_along_morph_boundaries)\n",
    "\n",
    "\n",
    "\n",
    "\n",
    "def analyze_segments_and_splits(tokenizer, word_freqs):\n",
    "\n",
    "\n",
    "    # Get the segmentations of all the words\n",
    "    all_words = list(word_freqs.keys())\n",
    "    segmentations = tokenizer_segmentations(all_words, tokenizer)\n",
    "\n",
    "    total_segments = 0\n",
    "    total_frequency = 0\n",
    "    total_words = len(word_freqs)\n",
    "    unweighted_segments_count = 0\n",
    "    split_words_count = 0\n",
    "    split_frequency_count = 0\n",
    "\n",
    "    for word, freq in word_freqs.items():\n",
    "        segments = segmentations[word]\n",
    "        segment_count = len(segments)\n",
    "        total_segments += segment_count * freq\n",
    "        total_frequency += freq\n",
    "        unweighted_segments_count += segment_count\n",
    "        if segment_count > 1:\n",
    "            split_words_count += 1\n",
    "            split_frequency_count += freq\n",
    "\n",
    "    if total_frequency == 0:\n",
    "        weighted_average_segments = 0.0\n",
    "    else:\n",
    "        weighted_average_segments = total_segments / total_frequency\n",
    "    \n",
    "    if total_words == 0:\n",
    "        unweighted_average_segments = 0.0\n",
    "    else:\n",
    "        unweighted_average_segments = unweighted_segments_count / total_words\n",
    "\n",
    "    if total_words == 0:\n",
    "        percentage_split_words = 0.0\n",
    "    else:\n",
    "        percentage_split_words = (split_words_count / total_words) * 100\n",
    "\n",
    "    if total_frequency == 0:\n",
    "        percentage_split_by_frequency = 0.0\n",
    "    else:\n",
    "        percentage_split_by_frequency = (split_frequency_count / total_frequency) * 100\n",
    "\n",
    "    return (weighted_average_segments, \n",
    "            unweighted_average_segments, \n",
    "            percentage_split_by_frequency, \n",
    "            percentage_split_words)\n",
    "\n",
    "\n",
    "def analyze_segments_and_splits_morfessor(model, word_freqs):\n",
    "\n",
    "\n",
    "    # Get the segmentations of all the words\n",
    "    all_words = list(word_freqs.keys())\n",
    "\n",
    "    segmentations = {}\n",
    "    for word in words_onzetaal:\n",
    "         segmentations[word] = model.viterbi_segment(word)[0]\n",
    "\n",
    "    total_segments = 0\n",
    "    total_frequency = 0\n",
    "    total_words = len(word_freqs)\n",
    "    unweighted_segments_count = 0\n",
    "    split_words_count = 0\n",
    "    split_frequency_count = 0\n",
    "\n",
    "    for word, freq in word_freqs.items():\n",
    "        if word in word_freqs:\n",
    "            segments = segmentations[word]\n",
    "            segment_count = len(segments)\n",
    "            total_segments += segment_count * freq\n",
    "            total_frequency += freq\n",
    "            unweighted_segments_count += segment_count\n",
    "            if segment_count > 1:\n",
    "                split_words_count += 1\n",
    "                split_frequency_count += freq\n",
    "\n",
    "    if total_frequency == 0:\n",
    "        weighted_average_segments = 0.0\n",
    "    else:\n",
    "        weighted_average_segments = total_segments / total_frequency\n",
    "    \n",
    "    if total_words == 0:\n",
    "        unweighted_average_segments = 0.0\n",
    "    else:\n",
    "        unweighted_average_segments = unweighted_segments_count / total_words\n",
    "\n",
    "    if total_words == 0:\n",
    "        percentage_split_words = 0.0\n",
    "    else:\n",
    "        percentage_split_words = (split_words_count / total_words) * 100\n",
    "\n",
    "    if total_frequency == 0:\n",
    "        percentage_split_by_frequency = 0.0\n",
    "    else:\n",
    "        percentage_split_by_frequency = (split_frequency_count / total_frequency) * 100\n",
    "\n",
    "    return (weighted_average_segments, \n",
    "            unweighted_average_segments, \n",
    "            percentage_split_by_frequency, \n",
    "            percentage_split_words)\n",
    "    \n",
    "        \n",
    "\n",
    "def filter_words_with_multiple_segments(word_freqs, segmentation_dictionary):\n",
    "\n",
    "    filtered_word_freqs = {}\n",
    "\n",
    "    for word, segments in segmentation_dictionary.items():\n",
    "        if word in word_freqs and len(segments) > 1:\n",
    "            filtered_word_freqs[word] = word_freqs[word]\n",
    "\n",
    "    return filtered_word_freqs\n",
    "\n",
    "def check_morph_correspondence(word, seg, dict_b):\n",
    "\n",
    "    if word in dict_b:\n",
    "        segments_b = dict_b[word]\n",
    "\n",
    "        segmentation_points_a = set()\n",
    "        position = 0\n",
    "        for segment in seg[:-1]:  \n",
    "            position += len(segment)\n",
    "            segmentation_points_a.add(position)\n",
    "        \n",
    "        segmentation_points_b = set()\n",
    "        position = 0\n",
    "        for segment in segments_b[:-1]: \n",
    "            position += len(segment)\n",
    "            segmentation_points_b.add(position)\n",
    "\n",
    "        if segmentation_points_a.issubset(segmentation_points_b):\n",
    "            return True\n",
    "        else:\n",
    "            return False\n",
    "    else:\n",
    "        return False\n",
    "\n",
    "\n",
    "\n",
    "def does_tok_split_morph(tokenizer, word_freqs, segmentation_dictionary):\n",
    "\n",
    "    segmentations = tokenizer_segmentations(word_freqs.keys(), tokenizer, only_splits=True)\n",
    "\n",
    "    total_n_words = 0\n",
    "    n_morph = 0\n",
    "    n_equal = 0\n",
    "\n",
    "    for word, segs in segmentations.items():\n",
    "        freq = word_freqs[word]\n",
    "        total_n_words += freq\n",
    "        \n",
    "        if word in segmentation_dictionary:\n",
    "            if check_morph_correspondence(word, segs, segmentation_dictionary):\n",
    "                n_morph += freq\n",
    "            \n",
    "            if segs == segmentation_dictionary[word]:\n",
    "                n_equal += freq\n",
    "\n",
    "    percentage_morph = (n_morph / total_n_words) * 100\n",
    "    percentage_equal = (n_equal / total_n_words) * 100\n",
    "\n",
    "    return percentage_morph, percentage_equal\n",
    "\n",
    "\n",
    "\n",
    "\n",
    "\n",
    "def does_tok_split_morph_absolute(tokenizer, word_freqs, segmentation_dictionary):\n",
    "\n",
    "    segmentations = tokenizer_segmentations(word_freqs.keys(), tokenizer, only_splits=True)\n",
    "\n",
    "    total_n_words = 0\n",
    "    n_morph = 0\n",
    "    n_equal = 0\n",
    "\n",
    "    for word, segs in segmentations.items():\n",
    "        \n",
    "        total_n_words += 1\n",
    "        \n",
    "        if word in segmentation_dictionary:\n",
    "            if check_morph_correspondence(word, segs, segmentation_dictionary):\n",
    "                n_morph += 1\n",
    "            \n",
    "            if segs == segmentation_dictionary[word]:\n",
    "                n_equal += 1\n",
    "\n",
    "    percentage_morph = (n_morph / total_n_words) * 100\n",
    "    percentage_equal = (n_equal / total_n_words) * 100\n",
    "\n",
    "\n",
    "    return percentage_morph, percentage_equal\n",
    "\n",
    "\n",
    "\n",
    "\n",
    "\n",
    "def does_tok_split_morph_morfessor(model, word_freqs, segmentation_dictionary):\n",
    "\n",
    "    segmentations = {}\n",
    "    for word in words_onzetaal:\n",
    "         segmentations[word] = model.viterbi_segment(word)[0]\n",
    "    \n",
    "    segmentations = {word: segs for word, segs in segmentations.items() if len(segs) > 1}\n",
    "\n",
    "    total_n_words = 0\n",
    "    n_morph = 0\n",
    "    n_equal = 0\n",
    "\n",
    "    for word, segs in segmentations.items():\n",
    "        if word in word_freqs:\n",
    "            freq = word_freqs[word]\n",
    "            total_n_words += freq\n",
    "            \n",
    "            if word in segmentation_dictionary:\n",
    "                if check_morph_correspondence(word, segs, segmentation_dictionary):\n",
    "                    n_morph += freq\n",
    "                \n",
    "                if segs == segmentation_dictionary[word]:\n",
    "                    n_equal += freq\n",
    "\n",
    "    percentage_morph = (n_morph / total_n_words) * 100\n",
    "    percentage_equal = (n_equal / total_n_words) * 100\n",
    "\n",
    "    return percentage_morph, percentage_equal\n",
    "\n",
    "\n",
    "\n",
    "def does_tok_split_morph_absolute_morfessor(model, word_freqs, segmentation_dictionary):\n",
    "\n",
    "    segmentations = {}\n",
    "    for word in words_onzetaal:\n",
    "         segmentations[word] = model.viterbi_segment(word)[0]\n",
    "    \n",
    "    segmentations = {word: segs for word, segs in segmentations.items() if len(segs) > 1}\n",
    "\n",
    "    total_n_words = 0\n",
    "    n_morph = 0\n",
    "    n_equal = 0\n",
    "\n",
    "    for word, segs in segmentations.items():\n",
    "        if word in word_freqs:\n",
    "        \n",
    "            total_n_words += 1\n",
    "            \n",
    "            if word in segmentation_dictionary:\n",
    "                if check_morph_correspondence(word, segs, segmentation_dictionary):\n",
    "                    n_morph += 1\n",
    "                \n",
    "                if segs == segmentation_dictionary[word]:\n",
    "                    n_equal += 1\n",
    "\n",
    "    percentage_morph = (n_morph / total_n_words) * 100\n",
    "    percentage_equal = (n_equal / total_n_words) * 100\n",
    "\n",
    "\n",
    "    return percentage_morph, percentage_equal"
   ]
  },
  {
   "cell_type": "markdown",
   "metadata": {},
   "source": [
    "### Comparison with corpus"
   ]
  },
  {
   "cell_type": "code",
   "execution_count": 581,
   "metadata": {},
   "outputs": [],
   "source": [
    "def sort_dict_by_frequency(word_freq_dict, rev=True):\n",
    "    return dict(sorted(word_freq_dict.items(), key=lambda item: item[1], reverse=rev))\n",
    "\n",
    "\n",
    "word_freqs_desc = sort_dict_by_frequency(word_freqs)\n",
    "word_freqs_asc = sort_dict_by_frequency(word_freqs, rev=False)"
   ]
  },
  {
   "cell_type": "code",
   "execution_count": 582,
   "metadata": {},
   "outputs": [],
   "source": [
    "from itertools import islice\n",
    "\n",
    "def get_first_n_elements(dictionary, n):\n",
    "\n",
    "    return dict(islice(dictionary.items(), n))\n",
    "\n",
    "word_freqs_asc_1000 = get_first_n_elements(word_freqs_asc, 1000)\n",
    "word_freqs_desc_1000 = get_first_n_elements(word_freqs_desc, 1000)\n",
    "\n"
   ]
  },
  {
   "cell_type": "markdown",
   "metadata": {},
   "source": [
    "#### Number of tokens split up (and avg length)"
   ]
  },
  {
   "cell_type": "code",
   "execution_count": 596,
   "metadata": {},
   "outputs": [],
   "source": [
    "split_info_wp = analyze_segments_and_splits(tokenizer_wp, word_freqs)\n"
   ]
  },
  {
   "cell_type": "code",
   "execution_count": 597,
   "metadata": {},
   "outputs": [],
   "source": [
    "split_info_bpe = analyze_segments_and_splits(tokenizer_bpe, word_freqs)"
   ]
  },
  {
   "cell_type": "code",
   "execution_count": 598,
   "metadata": {},
   "outputs": [],
   "source": [
    "split_info_morf = analyze_segments_and_splits(tokenizer_morf, word_freqs)"
   ]
  },
  {
   "cell_type": "code",
   "execution_count": 599,
   "metadata": {},
   "outputs": [
    {
     "name": "stdout",
     "output_type": "stream",
     "text": [
      "WP: (1.1219943234625647, 3.1001931217198413, 8.738465083412226, 99.56455030139499)\n",
      "BPE: (1.2552270021201593, 3.210728594612898, 19.47103037432058, 99.7607020069314)\n",
      "MORF: (1.4044444644740077, 3.827883877481554, 28.217846889597425, 99.65667249806019)\n"
     ]
    }
   ],
   "source": [
    "print('WP:', split_info_wp)\n",
    "print('BPE:', split_info_bpe)\n",
    "print('MORF:', split_info_morf)"
   ]
  },
  {
   "cell_type": "markdown",
   "metadata": {},
   "source": [
    "#### Split up along morphological boundaries (corpus)"
   ]
  },
  {
   "cell_type": "code",
   "execution_count": 99,
   "metadata": {},
   "outputs": [],
   "source": [
    "seg_dict_in_corpus, seg_dict_not_in_corpus = in_corpus_or_not(word_freqs, segmentation_dictionary)"
   ]
  },
  {
   "cell_type": "code",
   "execution_count": 604,
   "metadata": {},
   "outputs": [],
   "source": [
    "split_morph_morf = does_tok_split_morph(tokenizer_bpe, seg_dict_in_corpus, segmentation_dictionary)"
   ]
  },
  {
   "cell_type": "code",
   "execution_count": 662,
   "metadata": {},
   "outputs": [
    {
     "name": "stdout",
     "output_type": "stream",
     "text": [
      "1780617170\n",
      "1637634111\n",
      "1304651468\n"
     ]
    }
   ],
   "source": [
    "split_morph_bpe = does_tok_split_morph(tokenizer_bpe, seg_dict_in_corpus, segmentation_dictionary)"
   ]
  },
  {
   "cell_type": "code",
   "execution_count": 663,
   "metadata": {},
   "outputs": [
    {
     "name": "stdout",
     "output_type": "stream",
     "text": [
      "1780617170\n",
      "1738947415\n",
      "1272028696\n"
     ]
    }
   ],
   "source": [
    "split_morph_wp = does_tok_split_morph(tokenizer_wp, seg_dict_in_corpus, segmentation_dictionary)"
   ]
  },
  {
   "cell_type": "code",
   "execution_count": 664,
   "metadata": {},
   "outputs": [
    {
     "data": {
      "text/plain": [
       "(91.97002806616764, 73.26962190306185)"
      ]
     },
     "execution_count": 664,
     "metadata": {},
     "output_type": "execute_result"
    }
   ],
   "source": [
    "split_morph_bpe"
   ]
  },
  {
   "cell_type": "code",
   "execution_count": 665,
   "metadata": {},
   "outputs": [
    {
     "data": {
      "text/plain": [
       "(97.65981392844819, 71.4375171390715)"
      ]
     },
     "execution_count": 665,
     "metadata": {},
     "output_type": "execute_result"
    }
   ],
   "source": [
    "split_morph_wp"
   ]
  },
  {
   "cell_type": "code",
   "execution_count": 668,
   "metadata": {},
   "outputs": [
    {
     "name": "stdout",
     "output_type": "stream",
     "text": [
      "503615\n",
      "265336\n",
      "142720\n"
     ]
    }
   ],
   "source": [
    "split_morph_bpe_abs = does_tok_split_morph_absolute(tokenizer_bpe, seg_dict_in_corpus, segmentation_dictionary)"
   ]
  },
  {
   "cell_type": "code",
   "execution_count": 669,
   "metadata": {},
   "outputs": [
    {
     "name": "stdout",
     "output_type": "stream",
     "text": [
      "503615\n",
      "274156\n",
      "5547\n"
     ]
    }
   ],
   "source": [
    "split_morph_wp_abs = does_tok_split_morph_absolute(tokenizer_wp, seg_dict_in_corpus, segmentation_dictionary)"
   ]
  },
  {
   "cell_type": "code",
   "execution_count": 670,
   "metadata": {},
   "outputs": [
    {
     "data": {
      "text/plain": [
       "(52.686278208552174, 28.339108247371502)"
      ]
     },
     "execution_count": 670,
     "metadata": {},
     "output_type": "execute_result"
    }
   ],
   "source": [
    "split_morph_bpe_abs"
   ]
  },
  {
   "cell_type": "code",
   "execution_count": 671,
   "metadata": {},
   "outputs": [
    {
     "data": {
      "text/plain": [
       "(54.43761603605929, 1.1014366132859426)"
      ]
     },
     "execution_count": 671,
     "metadata": {},
     "output_type": "execute_result"
    }
   ],
   "source": [
    "split_morph_wp_abs"
   ]
  },
  {
   "cell_type": "markdown",
   "metadata": {},
   "source": [
    "### Comparison with simlex"
   ]
  },
  {
   "cell_type": "code",
   "execution_count": 411,
   "metadata": {},
   "outputs": [
    {
     "name": "stdout",
     "output_type": "stream",
     "text": [
      "Tokenizer: BPE\n",
      "\n",
      "Number of words: 1045\n",
      "Number of words not split up: 604\n",
      "Number of words split up: 441\n",
      "Number of segmented words in segmentation dictionary: 374\n",
      "Number of words segmented along morphological boundaries: 94\n",
      "Number of words not segmented along morphological boundaries: 280\n",
      "Number of words segmented identically to segmentation dictionary: 57\n"
     ]
    }
   ],
   "source": [
    "does_tokenizer_segment_morphologically(tokenizer_bpe, simlex_words, segmentation_dictionary)"
   ]
  },
  {
   "cell_type": "code",
   "execution_count": 413,
   "metadata": {},
   "outputs": [
    {
     "name": "stdout",
     "output_type": "stream",
     "text": [
      "Tokenizer: WodPiece\n",
      "\n",
      "Number of words: 1045\n",
      "Number of words not split up: 884\n",
      "Number of words split up: 161\n",
      "Number of segmented words in segmentation dictionary: 122\n",
      "Number of words segmented along morphological boundaries: 50\n",
      "Number of words not segmented along morphological boundaries: 72\n",
      "Number of words segmented identically to segmentation dictionary: 33\n"
     ]
    }
   ],
   "source": [
    "does_tokenizer_segment_morphologically(tokenizer_wp, simlex_words, segmentation_dictionary)"
   ]
  },
  {
   "cell_type": "code",
   "execution_count": 420,
   "metadata": {},
   "outputs": [
    {
     "name": "stdout",
     "output_type": "stream",
     "text": [
      "Tokenizer: MORF\n",
      "\n",
      "Number of words: 1045\n",
      "Number of words not split up: 691\n",
      "Number of words split up: 354\n",
      "Number of segmented words in segmentation dictionary: 309\n",
      "Number of words segmented along morphological boundaries: 308\n",
      "Number of words not segmented along morphological boundaries: 1\n",
      "Number of words segmented identically to segmentation dictionary: 308\n"
     ]
    }
   ],
   "source": [
    "does_tokenizer_segment_morphologically(tokenizer_morf, simlex_words, segmentation_dictionary)"
   ]
  },
  {
   "cell_type": "code",
   "execution_count": 415,
   "metadata": {},
   "outputs": [
    {
     "name": "stdout",
     "output_type": "stream",
     "text": [
      "Tokenizer: BERTje\n",
      "\n",
      "Number of words: 1045\n",
      "Number of words not split up: 906\n",
      "Number of words split up: 139\n",
      "Number of segmented words in segmentation dictionary: 106\n",
      "Number of words segmented along morphological boundaries: 58\n",
      "Number of words not segmented along morphological boundaries: 48\n",
      "Number of words segmented identically to segmentation dictionary: 38\n"
     ]
    }
   ],
   "source": [
    "does_tokenizer_segment_morphologically(tokenizer_bertje, simlex_words, segmentation_dictionary)"
   ]
  },
  {
   "cell_type": "code",
   "execution_count": 45,
   "metadata": {},
   "outputs": [
    {
     "name": "stdout",
     "output_type": "stream",
     "text": [
      "Tokenizer: RobBERT v2\n",
      "\n",
      "Number of words: 1045\n",
      "Number of words not split up: 489\n",
      "Number of words split up: 556\n",
      "Number of segmented words in segmentation dictionary: 487\n",
      "Number of words segmented along morphological boundaries: 106\n",
      "Number of words not segmented along morphological boundaries: 381\n",
      "Number of words segmented identically to segmentation dictionary: 63\n"
     ]
    }
   ],
   "source": [
    "does_tokenizer_segment_morphologically(tokenizer_robbertv2, simlex_words, segmentation_dictionary)"
   ]
  },
  {
   "cell_type": "code",
   "execution_count": 46,
   "metadata": {},
   "outputs": [
    {
     "name": "stdout",
     "output_type": "stream",
     "text": [
      "Tokenizer: RobBERT 22\n",
      "\n",
      "Number of words: 1045\n",
      "Number of words not split up: 492\n",
      "Number of words split up: 553\n",
      "Number of segmented words in segmentation dictionary: 484\n",
      "Number of words segmented along morphological boundaries: 104\n",
      "Number of words not segmented along morphological boundaries: 380\n",
      "Number of words segmented identically to segmentation dictionary: 62\n"
     ]
    }
   ],
   "source": [
    "does_tokenizer_segment_morphologically(tokenizer_robbert22, simlex_words, segmentation_dictionary)"
   ]
  },
  {
   "cell_type": "code",
   "execution_count": 47,
   "metadata": {},
   "outputs": [
    {
     "name": "stdout",
     "output_type": "stream",
     "text": [
      "Tokenizer: RobBERT 23\n",
      "\n",
      "Number of words: 1045\n",
      "Number of words not split up: 906\n",
      "Number of words split up: 139\n",
      "Number of segmented words in segmentation dictionary: 104\n",
      "Number of words segmented along morphological boundaries: 38\n",
      "Number of words not segmented along morphological boundaries: 66\n",
      "Number of words segmented identically to segmentation dictionary: 25\n"
     ]
    }
   ],
   "source": [
    "does_tokenizer_segment_morphologically(tokenizer_robbert23, simlex_words, segmentation_dictionary)"
   ]
  },
  {
   "cell_type": "code",
   "execution_count": 48,
   "metadata": {},
   "outputs": [
    {
     "data": {
      "text/plain": [
       "50000"
      ]
     },
     "execution_count": 48,
     "metadata": {},
     "output_type": "execute_result"
    }
   ],
   "source": [
    "len(tokenizer_robbert23)"
   ]
  },
  {
   "cell_type": "code",
   "execution_count": 49,
   "metadata": {},
   "outputs": [
    {
     "data": {
      "text/plain": [
       "40000"
      ]
     },
     "execution_count": 49,
     "metadata": {},
     "output_type": "execute_result"
    }
   ],
   "source": [
    "len(tokenizer_robbertv2)"
   ]
  },
  {
   "cell_type": "code",
   "execution_count": 50,
   "metadata": {},
   "outputs": [
    {
     "data": {
      "text/plain": [
       "42774"
      ]
     },
     "execution_count": 50,
     "metadata": {},
     "output_type": "execute_result"
    }
   ],
   "source": [
    "len(tokenizer_robbert22)"
   ]
  },
  {
   "cell_type": "code",
   "execution_count": 28,
   "metadata": {},
   "outputs": [],
   "source": [
    "bpe_not_split, bpe_split_morph, bpe_split_not_moprh = return_does_tokenizer_segment_morphologically(tokenizer_bpe, simlex_words, segmentation_dictionary)\n",
    "wp_not_split, wp_split_morph, wp_split_not_moprh = return_does_tokenizer_segment_morphologically(tokenizer_wp, simlex_words, segmentation_dictionary)\n",
    "morf_not_split, morf_split_morph, morf_split_not_moprh = return_does_tokenizer_segment_morphologically(tokenizer_morf, simlex_words, segmentation_dictionary)"
   ]
  },
  {
   "cell_type": "code",
   "execution_count": 54,
   "metadata": {},
   "outputs": [],
   "source": [
    "rob1_not_split, rob1_split_morph, rob1_split_not_moprh = return_does_tokenizer_segment_morphologically(tokenizer_robbertv2, simlex_words, segmentation_dictionary)\n",
    "rob22_not_split, rob22_split_morph, rob22_split_not_moprh = return_does_tokenizer_segment_morphologically(tokenizer_robbert22, simlex_words, segmentation_dictionary)\n",
    "rob23_not_split, rob23_split_morph, rob23_split_not_moprh = return_does_tokenizer_segment_morphologically(tokenizer_robbert23, simlex_words, segmentation_dictionary)\n",
    "\n",
    "bertje_not_split, bertje_split_morph, bertje_split_not_moprh = return_does_tokenizer_segment_morphologically(tokenizer_bertje, simlex_words, segmentation_dictionary)"
   ]
  },
  {
   "cell_type": "code",
   "execution_count": 29,
   "metadata": {},
   "outputs": [],
   "source": [
    "bpe_words = [bpe_not_split, bpe_split_morph, bpe_split_not_moprh]\n",
    "wp_words = [wp_not_split, wp_split_morph, wp_split_not_moprh]\n",
    "morf_words = [morf_not_split, morf_split_morph, morf_split_not_moprh]"
   ]
  },
  {
   "cell_type": "code",
   "execution_count": 55,
   "metadata": {},
   "outputs": [],
   "source": [
    "rob1_words = [rob1_not_split, rob1_split_morph, rob1_split_not_moprh]\n",
    "rob22_words = [rob22_not_split, rob22_split_morph, rob22_split_not_moprh]\n",
    "rob23_words = [rob23_not_split, rob23_split_morph, rob23_split_not_moprh]\n",
    "\n",
    "bertje_words = [bertje_not_split, bertje_split_morph,bertje_split_not_moprh]"
   ]
  },
  {
   "cell_type": "code",
   "execution_count": 30,
   "metadata": {},
   "outputs": [],
   "source": [
    "def categorize_tuples(word_lists, tuples_list):\n",
    "\n",
    "    if not (isinstance(word_lists, list) and len(word_lists) == 3 and all(isinstance(sublist, list) for sublist in word_lists)):\n",
    "        raise ValueError(\"word_lists should be a list of three lists\")\n",
    "    if not all(isinstance(t, tuple) and len(t) == 4 for t in tuples_list):\n",
    "        raise ValueError(\"tuples_list should be a list of tuples with four elements each\")\n",
    "    \n",
    "    first_list = set(word_lists[0])\n",
    "    second_list = set(word_lists[1])\n",
    "    third_list = set(word_lists[2])\n",
    "\n",
    "    list1_tuples = []\n",
    "    list2_tuples = []\n",
    "    list3_tuples = []\n",
    "\n",
    "    for t in tuples_list:\n",
    "        word1, word2 = t[0], t[1]\n",
    "\n",
    "        if word1 in first_list and word2 in first_list:\n",
    "            list1_tuples.append(t)\n",
    "        if (word1 in first_list and word2 in first_list) or (word1 in second_list and word2 in second_list):\n",
    "            list2_tuples.append(t)\n",
    "        if word1 in second_list and word2 in second_list:\n",
    "            list2_tuples.append(t)\n",
    "        if word1 in third_list and word2 in third_list:\n",
    "            list3_tuples.append(t)\n",
    "\n",
    "    return list1_tuples, list2_tuples, list3_tuples\n",
    "\n"
   ]
  },
  {
   "cell_type": "code",
   "execution_count": 31,
   "metadata": {},
   "outputs": [],
   "source": [
    "bpe_pairs_no_split, bpe_pairs_morpf, bpe_pairs_no_morph = categorize_tuples(bpe_words, simlex_pairs)\n",
    "wp_pairs_no_split, wp_pairs_morpf, wp_pairs_no_morph = categorize_tuples(wp_words, simlex_pairs)\n",
    "morf_pairs_no_split, morf_pairs_morpf, morf_pairs_no_morph = categorize_tuples(morf_words, simlex_pairs)"
   ]
  },
  {
   "cell_type": "code",
   "execution_count": 56,
   "metadata": {},
   "outputs": [],
   "source": [
    "rob1_pairs_no_split, rob1_pairs_morpf, rob1_pairs_no_morph = categorize_tuples(rob1_words, simlex_pairs)\n",
    "rob22_pairs_no_split, rob22_pairs_morpf, rob22_pairs_no_morph = categorize_tuples(rob22_words, simlex_pairs)\n",
    "rob23_pairs_no_split, rob23_pairs_morpf, rob23_pairs_no_morph = categorize_tuples(rob23_words, simlex_pairs)\n",
    "\n",
    "bertje_pairs_no_split, bertje_pairs_morpf, bertje_pairs_no_morph = categorize_tuples(bertje_words, simlex_pairs)"
   ]
  },
  {
   "cell_type": "code",
   "execution_count": 32,
   "metadata": {},
   "outputs": [],
   "source": [
    "bpe_pairs = [bpe_pairs_no_split, bpe_pairs_morpf, bpe_pairs_no_morph]\n",
    "wp_pairs = [wp_pairs_no_split, wp_pairs_morpf, wp_pairs_no_morph]\n",
    "morf_pairs = [morf_pairs_no_split, morf_pairs_morpf, morf_pairs_no_morph]\n",
    "\n"
   ]
  },
  {
   "cell_type": "code",
   "execution_count": 58,
   "metadata": {},
   "outputs": [
    {
     "data": {
      "text/plain": [
       "318"
      ]
     },
     "execution_count": 58,
     "metadata": {},
     "output_type": "execute_result"
    }
   ],
   "source": [
    "len(rob1_pairs_no_split)"
   ]
  },
  {
   "cell_type": "code",
   "execution_count": 60,
   "metadata": {},
   "outputs": [
    {
     "data": {
      "text/plain": [
       "321"
      ]
     },
     "execution_count": 60,
     "metadata": {},
     "output_type": "execute_result"
    }
   ],
   "source": [
    "len(rob22_pairs_no_split)"
   ]
  },
  {
   "cell_type": "code",
   "execution_count": 62,
   "metadata": {},
   "outputs": [
    {
     "data": {
      "text/plain": [
       "681"
      ]
     },
     "execution_count": 62,
     "metadata": {},
     "output_type": "execute_result"
    }
   ],
   "source": [
    "999 - 318"
   ]
  },
  {
   "cell_type": "code",
   "execution_count": 61,
   "metadata": {},
   "outputs": [
    {
     "data": {
      "text/plain": [
       "815"
      ]
     },
     "execution_count": 61,
     "metadata": {},
     "output_type": "execute_result"
    }
   ],
   "source": [
    "len(rob23_pairs_no_split)"
   ]
  },
  {
   "cell_type": "code",
   "execution_count": 63,
   "metadata": {},
   "outputs": [
    {
     "data": {
      "text/plain": [
       "184"
      ]
     },
     "execution_count": 63,
     "metadata": {},
     "output_type": "execute_result"
    }
   ],
   "source": [
    "999 - 815"
   ]
  },
  {
   "cell_type": "code",
   "execution_count": 36,
   "metadata": {},
   "outputs": [
    {
     "data": {
      "text/plain": [
       "439"
      ]
     },
     "execution_count": 36,
     "metadata": {},
     "output_type": "execute_result"
    }
   ],
   "source": [
    "len(bpe_pairs_no_split)"
   ]
  },
  {
   "cell_type": "code",
   "execution_count": 37,
   "metadata": {},
   "outputs": [
    {
     "data": {
      "text/plain": [
       "560"
      ]
     },
     "execution_count": 37,
     "metadata": {},
     "output_type": "execute_result"
    }
   ],
   "source": [
    "999 - 439"
   ]
  },
  {
   "cell_type": "code",
   "execution_count": 38,
   "metadata": {},
   "outputs": [
    {
     "data": {
      "text/plain": [
       "884"
      ]
     },
     "execution_count": 38,
     "metadata": {},
     "output_type": "execute_result"
    }
   ],
   "source": [
    "len(wp_not_split)"
   ]
  },
  {
   "cell_type": "code",
   "execution_count": 39,
   "metadata": {},
   "outputs": [
    {
     "data": {
      "text/plain": [
       "115"
      ]
     },
     "execution_count": 39,
     "metadata": {},
     "output_type": "execute_result"
    }
   ],
   "source": [
    "999 - 884"
   ]
  },
  {
   "cell_type": "markdown",
   "metadata": {},
   "source": [
    "### Morfessor"
   ]
  },
  {
   "cell_type": "code",
   "execution_count": 87,
   "metadata": {},
   "outputs": [
    {
     "name": "stdout",
     "output_type": "stream",
     "text": [
      "['huis', 'arrest']\n"
     ]
    }
   ],
   "source": [
    "model_file = \"model_nl_complete.bin\"\n",
    "io = morfessor.MorfessorIO()\n",
    "model_nl = io.read_binary_model_file(model_file)\n",
    "\n",
    "word = 'huisarrest'\n",
    "# for segmenting new words we use the viterbi_segment(compound) method\n",
    "print(model_nl.viterbi_segment(word)[0])"
   ]
  },
  {
   "cell_type": "code",
   "execution_count": 89,
   "metadata": {},
   "outputs": [],
   "source": [
    "morfessor_dictionary = {}\n",
    "for word in words_onzetaal:\n",
    "    morfessor_dictionary[word] = model_nl.viterbi_segment(word)[0]"
   ]
  },
  {
   "cell_type": "code",
   "execution_count": 91,
   "metadata": {},
   "outputs": [
    {
     "data": {
      "text/plain": [
       "70643"
      ]
     },
     "execution_count": 91,
     "metadata": {},
     "output_type": "execute_result"
    }
   ],
   "source": [
    "morfessor_morphemes = set([])\n",
    "for segs in morfessor_dictionary.values():\n",
    "    for seg in segs:\n",
    "        morfessor_morphemes.add(seg)\n",
    "    \n",
    "len(morfessor_morphemes)"
   ]
  },
  {
   "cell_type": "code",
   "execution_count": 93,
   "metadata": {},
   "outputs": [
    {
     "name": "stdout",
     "output_type": "stream",
     "text": [
      "There are 70643 morphemes, out of these 67880 appear at the beginning of a word\n",
      "2763 morphemes do not appear at the beginning. This means that the vocabulary has a size of 135760 tokens (only lowercase).\n"
     ]
    }
   ],
   "source": [
    "def count_morphemes_extra(df, print_info=True):\n",
    "\n",
    "    total = set([])\n",
    "    begin = set([])\n",
    "    mid = set([])\n",
    "\n",
    "    for word, segs in df.items():\n",
    "        if len(segs) > 0:\n",
    "            begin.add(segs[0])\n",
    "        if len(segs) > 1:\n",
    "           for item in segs[1:]:\n",
    "               mid.add(item)\n",
    "        for seg in segs:\n",
    "            total.add(seg)\n",
    "\n",
    "    not_at_begin = mid - begin\n",
    "\n",
    "    size = len(total) + len(begin) - len(not_at_begin)\n",
    "\n",
    "    if print_info:\n",
    "    \n",
    "        print(f'There are {len(total)} morphemes, out of these {len(begin)} appear at the beginning of a word')\n",
    "        print(f'{len(not_at_begin)} morphemes do not appear at the beginning. This means that the vocabulary has a size of {size} tokens (only lowercase).')\n",
    "    \n",
    "    else:\n",
    "        return size\n",
    "\n",
    "count_morphemes_extra(morfessor_dictionary)"
   ]
  },
  {
   "cell_type": "code",
   "execution_count": 102,
   "metadata": {},
   "outputs": [
    {
     "data": {
      "text/plain": [
       "(60.70909431531084, 43.08585919503626)"
      ]
     },
     "execution_count": 102,
     "metadata": {},
     "output_type": "execute_result"
    }
   ],
   "source": [
    "does_tok_split_morph_morfessor(model_nl, seg_dict_in_corpus, segmentation_dictionary)"
   ]
  },
  {
   "cell_type": "code",
   "execution_count": 103,
   "metadata": {},
   "outputs": [
    {
     "data": {
      "text/plain": [
       "(94.33425260850822, 51.787392945991286)"
      ]
     },
     "execution_count": 103,
     "metadata": {},
     "output_type": "execute_result"
    }
   ],
   "source": [
    "does_tok_split_morph_absolute_morfessor(model_nl, seg_dict_in_corpus, segmentation_dictionary)"
   ]
  },
  {
   "cell_type": "markdown",
   "metadata": {},
   "source": [
    "## Model evaluation 1: Perplexity"
   ]
  },
  {
   "cell_type": "markdown",
   "metadata": {},
   "source": [
    "Simple"
   ]
  },
  {
   "cell_type": "code",
   "execution_count": 393,
   "metadata": {},
   "outputs": [],
   "source": [
    "def calculate_perplexity(model, tokenizer, text):\n",
    "    # Tokenize the input text\n",
    "    inputs = tokenizer(text, return_tensors='pt')\n",
    "    \n",
    "    # Get input IDs and attention mask\n",
    "    input_ids = inputs['input_ids']\n",
    "    attention_mask = inputs['attention_mask']\n",
    "    \n",
    "    # Forward pass through the model\n",
    "    with torch.no_grad():\n",
    "        outputs = model(input_ids, attention_mask=attention_mask, labels=input_ids)\n",
    "    \n",
    "    # Get the loss (cross-entropy)\n",
    "    loss = outputs.loss\n",
    "    \n",
    "    # Calculate perplexity\n",
    "    perplexity = torch.exp(loss)\n",
    "    \n",
    "    return perplexity.item()"
   ]
  },
  {
   "cell_type": "code",
   "execution_count": 558,
   "metadata": {},
   "outputs": [],
   "source": [
    "#text = 'dit is een simpele nederlandse zin, waarin we kijken hoe goed het model een woord voorspelt'\n",
    "text = 'het lijkt erop dat een langere zin voor een lagere score zorgt. klopt dat ook? misschien is dat omdat het meer context geeft.'"
   ]
  },
  {
   "cell_type": "code",
   "execution_count": 559,
   "metadata": {},
   "outputs": [
    {
     "data": {
      "text/plain": [
       "2.756091594696045"
      ]
     },
     "execution_count": 559,
     "metadata": {},
     "output_type": "execute_result"
    }
   ],
   "source": [
    "calculate_perplexity(model_bpe_masked, tokenizer_bpe, text)"
   ]
  },
  {
   "cell_type": "code",
   "execution_count": 560,
   "metadata": {},
   "outputs": [
    {
     "data": {
      "text/plain": [
       "3.4510180950164795"
      ]
     },
     "execution_count": 560,
     "metadata": {},
     "output_type": "execute_result"
    }
   ],
   "source": [
    "calculate_perplexity(model_wp_masked, tokenizer_wp, text)"
   ]
  },
  {
   "cell_type": "code",
   "execution_count": 561,
   "metadata": {},
   "outputs": [
    {
     "data": {
      "text/plain": [
       "11.022215843200684"
      ]
     },
     "execution_count": 561,
     "metadata": {},
     "output_type": "execute_result"
    }
   ],
   "source": [
    "calculate_perplexity(model_morf_masked, tokenizer_morf, text)"
   ]
  },
  {
   "cell_type": "code",
   "execution_count": null,
   "metadata": {},
   "outputs": [],
   "source": []
  },
  {
   "cell_type": "markdown",
   "metadata": {},
   "source": [
    "## Model evaluation 2: SimLex"
   ]
  },
  {
   "cell_type": "markdown",
   "metadata": {},
   "source": [
    "### Functions"
   ]
  },
  {
   "cell_type": "code",
   "execution_count": 111,
   "metadata": {},
   "outputs": [],
   "source": [
    "def get_word_embedding(model, tokenizer, word, pooling_strategy='mean'):\n",
    "    inputs = tokenizer(word, return_tensors='pt')\n",
    "    input_ids = inputs['input_ids']\n",
    "\n",
    "\n",
    "    if input_ids.shape[1] > 2:\n",
    "        input_ids = input_ids[:, 1:-1]\n",
    "\n",
    "    with torch.no_grad():\n",
    "        embeddings = model.get_input_embeddings()(input_ids)\n",
    "\n",
    "    token_vectors = embeddings.squeeze(0)\n",
    "\n",
    "    if pooling_strategy == 'mean':\n",
    "        word_embedding = token_vectors.mean(dim=0)\n",
    "    elif pooling_strategy == 'max':\n",
    "        word_embedding, _ = token_vectors.max(dim=0)\n",
    "    elif pooling_strategy == 'sum':\n",
    "        word_embedding = token_vectors.sum(dim=0)\n",
    "    elif pooling_strategy == 'first':\n",
    "        word_embedding = token_vectors[0]\n",
    "    elif pooling_strategy == 'last':\n",
    "        word_embedding = token_vectors[-1]\n",
    "    else:\n",
    "        raise ValueError(f\"Unknown pooling strategy: {pooling_strategy}\")\n",
    "    \n",
    "    return word_embedding\n",
    "\n",
    "\n",
    "def get_word_vector(model, tokenizer, word, layer=-1, pooling_strategy='mean'):\n",
    "    inputs = tokenizer(word, return_tensors='pt')\n",
    "    input_ids = inputs['input_ids']\n",
    "    attention_mask = inputs['attention_mask']\n",
    "    \n",
    "\n",
    "    if input_ids.shape[1] > 2: \n",
    "        input_ids = input_ids[:, 1:-1]\n",
    "        attention_mask = attention_mask[:, 1:-1]\n",
    "    \n",
    "    with torch.no_grad():\n",
    "        outputs = model(input_ids, attention_mask=attention_mask, output_hidden_states=True)\n",
    "    \n",
    "    hidden_states = outputs.hidden_states[layer]\n",
    "    token_vectors = hidden_states.squeeze(0)\n",
    "\n",
    "    if pooling_strategy == 'mean':\n",
    "        word_vector = token_vectors.mean(dim=0)\n",
    "    elif pooling_strategy == 'max':\n",
    "        word_vector, _ = token_vectors.max(dim=0)\n",
    "    elif pooling_strategy == 'sum':\n",
    "        word_vector = token_vectors.sum(dim=0)\n",
    "    elif pooling_strategy == 'first':\n",
    "        word_vector = token_vectors[0]\n",
    "    elif pooling_strategy == 'last':\n",
    "        word_vector = token_vectors[-1]\n",
    "    else:\n",
    "        raise ValueError(f\"Unknown pooling strategy: {pooling_strategy}\")\n",
    "    \n",
    "    return word_vector\n",
    "\n",
    "\n",
    "def cosine_similarity(vec1, vec2):\n",
    "    \n",
    "    return F.cosine_similarity(vec1.unsqueeze(0), vec2.unsqueeze(0)).item()\n",
    "\n",
    "\n",
    "def get_similarities_for_word_pairs(model, tokenizer, word_pairs, layer='embedding', pooling_strategy='mean'):\n",
    "\n",
    "    similarities = []\n",
    "    \n",
    "    for word1, word2, score, word_type in word_pairs:\n",
    "        if layer == 'embedding':\n",
    "            vec1 = get_word_embedding(model, tokenizer, word1)\n",
    "            vec2 = get_word_embedding(model, tokenizer, word2)\n",
    "        else:\n",
    "            vec1 = get_word_vector(model, tokenizer, word1, layer, pooling_strategy)\n",
    "            vec2 = get_word_vector(model, tokenizer, word2, layer, pooling_strategy)\n",
    "        similarity = cosine_similarity(vec1, vec2)\n",
    "        similarities.append((word1, word2, float(score), similarity))\n",
    "    \n",
    "    return similarities\n",
    "\n",
    "\n",
    "\n",
    "def filter_word_pairs(word_pairs_with_scores, list_A, list_B):\n",
    "\n",
    "    both_in_A = []\n",
    "    both_in_B = []\n",
    "    one_in_A_one_in_B = []\n",
    "    \n",
    "    set_A = set(list_A)\n",
    "    set_B = set(list_B)\n",
    "    \n",
    "    for word1, word2, score, similarity in word_pairs_with_scores:\n",
    "        if word1 in set_A and word2 in set_A:\n",
    "            both_in_A.append((word1, word2, score, similarity))\n",
    "        elif word1 in set_B and word2 in set_B:\n",
    "            both_in_B.append((word1, word2, score, similarity))\n",
    "        elif (word1 in set_A and word2 in set_B) or (word1 in set_B and word2 in set_A):\n",
    "            one_in_A_one_in_B.append((word1, word2, score, similarity))\n",
    "    \n",
    "    return both_in_A, both_in_B, one_in_A_one_in_B\n",
    "\n",
    "    \n",
    "def calculate_spearman_correlation(similarities):\n",
    "    human_scores = [score for _, _, score, _ in similarities]\n",
    "    cosine_similarities = [similarity for _, _, _, similarity in similarities]\n",
    "    correlation, _ = spearmanr(human_scores, cosine_similarities)\n",
    "    return correlation\n",
    "\n",
    "\n",
    "def calculate_spearman_total(model, tokenizer, word_pairs, layer='embedding', pooling_strategy='mean'):\n",
    "\n",
    "    similarities = get_similarities_for_word_pairs(model, tokenizer, word_pairs, layer, pooling_strategy)\n",
    "    \n",
    "    human_scores = [score for _, _, score, _ in similarities]\n",
    "    cosine_similarities = [similarity for _, _, _, similarity in similarities]\n",
    "    \n",
    "    correlation, _ = spearmanr(human_scores, cosine_similarities)\n",
    "    return correlation\n",
    "\n",
    "\n",
    "def create_spearman_dataframe(models, tokenizers, word_pairs_groups, model_names, layer='embedding', pooling_strategy='mean'):\n",
    "    results = []\n",
    "\n",
    "    for model, tokenizer, word_pairs_group, model_name in zip(models, tokenizers, word_pairs_groups, model_names):\n",
    "        spearman_values = []\n",
    "        for word_pairs in word_pairs_group:\n",
    "            spearman_value = calculate_spearman_total(model, tokenizer, word_pairs, layer=layer, pooling_strategy=pooling_strategy)\n",
    "            spearman_values.append(spearman_value)\n",
    "        \n",
    "        # Ensure there are exactly 3 elements for A, B, and C\n",
    "        if len(spearman_values) == 3:\n",
    "            results.append({\n",
    "                'Model Name': model_name,\n",
    "                'No split': spearman_values[0],\n",
    "                'Morphological split': spearman_values[1],\n",
    "                'No morphological split': spearman_values[2]\n",
    "            })\n",
    "        else:\n",
    "            raise ValueError(\"Each word_pairs_group should contain exactly 3 elements for columns A, B, and C\")\n",
    "\n",
    "    df = pd.DataFrame(results)\n",
    "    return df\n",
    "\n",
    "\n",
    "def compare_models_a(model_names, models, tokenizers, word_pairs, layer='embedding', pooling_strategy='mean'):\n",
    "    results = []\n",
    "    for name, model, tokenizer in zip(model_names, models, tokenizers):\n",
    "        similarities = get_similarities_for_word_pairs(model, tokenizer, word_pairs, layer, pooling_strategy)\n",
    "        \n",
    "        # Separate words into split and no_split categories\n",
    "        words = set(word for word_pair in word_pairs for word in word_pair[:2])\n",
    "        no_split, split = segmented_by_tokenizer(words, tokenizer)\n",
    "        \n",
    "        both_split = []\n",
    "        both_no_split = []\n",
    "        one_split_one_not = []\n",
    "        \n",
    "        for word1, word2, score, similarity in similarities:\n",
    "            if word1 in split and word2 in split:\n",
    "                both_split.append((word1, word2, score, similarity))\n",
    "            elif word1 in no_split and word2 in no_split:\n",
    "                both_no_split.append((word1, word2, score, similarity))\n",
    "            else:\n",
    "                one_split_one_not.append((word1, word2, score, similarity))\n",
    "        \n",
    "        spearman_both_split = calculate_spearman_correlation(both_split) if both_split else None\n",
    "        spearman_both_no_split = calculate_spearman_correlation(both_no_split) if both_no_split else None\n",
    "        spearman_one_split_one_not = calculate_spearman_correlation(one_split_one_not) if one_split_one_not else None\n",
    "        spearman_all_pairs = calculate_spearman_correlation(similarities)\n",
    "        \n",
    "        results.append({\n",
    "            'Model': name, \n",
    "            'Spearman Both Split': spearman_both_split,\n",
    "            'Spearman Both No Split': spearman_both_no_split,\n",
    "            'Spearman One Split One Not': spearman_one_split_one_not,\n",
    "            'Spearman All Pairs': spearman_all_pairs\n",
    "        })\n",
    "    \n",
    "    df = pd.DataFrame(results)\n",
    "    return df\n",
    "\n",
    "\n",
    "\n",
    "\n",
    "def compare_models_b(model_names, models, tokenizers, word_pairs, word_splits, layer='embedding', pooling_strategy='mean'):\n",
    "    results = []\n",
    "    \n",
    "    for name, model, tokenizer, split_data in zip(model_names, models, tokenizers, word_splits):\n",
    "        similarities = get_similarities_for_word_pairs(model, tokenizer, word_pairs, layer, pooling_strategy)\n",
    "        \n",
    "        spearman_correlations = {}\n",
    "        \n",
    "        for category, word_pair_list in split_data.items():\n",
    "            category_pairs = [(word1, word2, score, similarity) for word1, word2, score, similarity in similarities \n",
    "                              if (word1, word2) in word_pair_list or (word2, word1) in word_pair_list]\n",
    "            spearman_correlations[f'Spearman {category}'] = calculate_spearman_correlation(category_pairs)\n",
    "        \n",
    "        spearman_all_pairs = calculate_spearman_correlation(similarities)\n",
    "        \n",
    "        spearman_correlations['Model'] = name\n",
    "        spearman_correlations['Spearman All Pairs'] = spearman_all_pairs\n",
    "        \n",
    "        results.append(spearman_correlations)\n",
    "    \n",
    "    df = pd.DataFrame(results)\n",
    "    return df\n",
    "\n",
    "\n",
    "\n",
    "\n",
    "def get_sorted_similarities_for_word_pairs(model, tokenizer, word_pairs, layer='embedding', pooling_strategy='mean', reverse=True):\n",
    "    \n",
    "    similarities = get_similarities_for_word_pairs(model, tokenizer, word_pairs, layer, pooling_strategy)\n",
    "    \n",
    "    def sort_key(item):\n",
    "        word1, word2, score, similarity = item\n",
    "        score_normalized = (score - 1) / 9\n",
    "        similarity_normalized = (similarity + 1) / 2\n",
    "        absolute_difference = abs(similarity_normalized - score_normalized)\n",
    "        \n",
    "        return absolute_difference\n",
    "\n",
    "    sorted_similarities = sorted(similarities, key=sort_key, reverse=reverse)\n",
    "    \n",
    "    sorted_similarities_with_diff = [\n",
    "        (word1, word2, score, similarity, sort_key((word1, word2, score, similarity)))\n",
    "        for word1, word2, score, similarity in sorted_similarities\n",
    "    ]\n",
    "    \n",
    "    return sorted_similarities_with_diff\n",
    "\n",
    "\n",
    "\n",
    "def print_similarities(model, tokenizer, word_pairs, top_k=10, layer='embedding', pooling_strategy='mean', reverse=True):\n",
    "\n",
    "    similarities = get_sorted_similarities_for_word_pairs(model, tokenizer, word_pairs, layer=layer, pooling_strategy=pooling_strategy, reverse=reverse)\n",
    "\n",
    "    if reverse == True:\n",
    "        print('Worst matches between simlex and model:\\n')\n",
    "    if reverse == False:\n",
    "        print('Best matches between simlex and model:\\n')\n",
    "\n",
    "    for pair in similarities[:top_k]:\n",
    "        print(pair)\n",
    "\n",
    "\n",
    "def get_sorted_similarities_for_word_pairs_df(model, tokenizer, word_pairs, layer='embedding', pooling_strategy='mean', reverse=True, top_n=None):\n",
    "    \n",
    "    similarities = get_similarities_for_word_pairs(model, tokenizer, word_pairs, layer, pooling_strategy)\n",
    "    \n",
    "    def sort_key(item):\n",
    "        word1, word2, score, similarity = item\n",
    "        score_normalized = (score - 1) / 9\n",
    "        similarity_normalized = (similarity + 1) / 2\n",
    "        absolute_difference = abs(similarity_normalized - score_normalized)\n",
    "        return absolute_difference\n",
    "    \n",
    "    sorted_similarities = sorted(similarities, key=sort_key, reverse=reverse)\n",
    "    \n",
    "    extended_tuples = []\n",
    "    \n",
    "    for word1, word2, score, similarity in sorted_similarities:\n",
    "        score_normalized = (score - 1) / 9\n",
    "        similarity_normalized = (similarity + 1) / 2, 2\n",
    "        absolute_difference = abs(similarity_normalized - score_normalized)\n",
    "        score_normalized_10 = round(score_normalized * 10, 2)\n",
    "        similarity_normalized_10 = round(similarity_normalized * 10, 2)\n",
    "        absolute_difference_10 = absolute_difference * 10\n",
    "        extended_tuples.append((word1, word2, score, similarity, score_normalized_10, similarity_normalized_10, absolute_difference_10))\n",
    "    \n",
    "    df = pd.DataFrame(extended_tuples, columns=['Word 1', 'Word 2', 'SimLex score', 'Cosine similarity', 'SimLex normalized', 'Cosine normalized', 'Absolute difference'])\n",
    "    \n",
    "    if top_n is not None:\n",
    "        return df.head(top_n)\n",
    "    else:\n",
    "        return df\n",
    "\n",
    "\n",
    "\n",
    "\n",
    "# def plot_similarities_scatterplot(model, tokenizer, word_pairs, layer='embedding', pooling_strategy='mean'):\n",
    "#     \"\"\"\n",
    "#     Plot a scatterplot of SimLex ratings vs. similarity scores for a given model.\n",
    "    \n",
    "#     Args:\n",
    "#     - model: The model to use for generating word vectors.\n",
    "#     - tokenizer: The tokenizer to use.\n",
    "#     - word_pairs: List of tuples containing word pairs, their human similarity scores, and types.\n",
    "#     - layer: The layer from which to extract the vectors (default: 'last' for the last layer, or 'embedding' for the embedding layer).\n",
    "#     - pooling_strategy: The strategy for pooling token vectors ('mean', 'max', 'sum', 'first', 'last').\n",
    "    \n",
    "#     Returns:\n",
    "#     - None\n",
    "#     \"\"\"\n",
    "#     similarities = get_similarities_for_word_pairs(model, tokenizer, word_pairs, layer, pooling_strategy)\n",
    "    \n",
    "#     human_scores = [float(score) for _, _, score, _ in similarities]\n",
    "#     cosine_similarities = [float(similarity) for _, _, _, similarity in similarities]\n",
    "    \n",
    "#     plt.figure(figsize=(10, 6))\n",
    "#     plt.scatter(human_scores, cosine_similarities, alpha=0.6, edgecolors='w', linewidth=0.5)\n",
    "#     plt.title('SimLex Ratings vs. Similarity Scores')\n",
    "#     plt.xlabel('SimLex Rating')\n",
    "#     plt.ylabel('Cosine Similarity')\n",
    "#     plt.grid(True)\n",
    "#     plt.show()\n",
    "\n",
    "def plot_similarities_scatterplot(model, tokenizer, word_pairs, layer='embedding', pooling_strategy='mean'):\n",
    "\n",
    "    similarities = get_similarities_for_word_pairs(model, tokenizer, word_pairs, layer, pooling_strategy)\n",
    "    \n",
    "    human_scores = [float(score) for _, _, score, _ in similarities]\n",
    "    cosine_similarities = [float(similarity) for _, _, _, similarity in similarities]\n",
    "    \n",
    "    # Convert lists to numpy arrays for linear regression\n",
    "    X = np.array(human_scores).reshape(-1, 1)\n",
    "    y = np.array(cosine_similarities)\n",
    "    \n",
    "    # Fit a linear regression model\n",
    "    reg = LinearRegression().fit(X, y)\n",
    "    trend_line = reg.predict(X)\n",
    "    \n",
    "    plt.figure(figsize=(6, 6))\n",
    "    plt.scatter(human_scores, cosine_similarities, alpha=0.6, edgecolors='w', linewidth=0.5)\n",
    "    plt.plot(human_scores, trend_line, color='red', linewidth=2, label='Trend')\n",
    "    plt.title('SimLex Ratings vs. Similarity Scores')\n",
    "    plt.xlabel('SimLex Rating')\n",
    "    plt.ylabel('Cosine Similarity')\n",
    "    plt.grid(True)\n",
    "    plt.legend()\n",
    "    plt.show()\n",
    "\n",
    "\n",
    "def plot_similarities_scatterplot_save(model, tokenizer, word_pairs, layer='embedding', pooling_strategy='mean', output_file='scatterplot.png'):\n",
    "    \"\"\"\n",
    "    Plot a scatterplot of SimLex ratings vs. similarity scores for a given model and save it as an image file.\n",
    "    \n",
    "    Args:\n",
    "    - model: The model to use for generating word vectors.\n",
    "    - tokenizer: The tokenizer to use.\n",
    "    - word_pairs: List of tuples containing word pairs, their human similarity scores, and types.\n",
    "    - layer: The layer from which to extract the vectors (default: 'last' for the last layer, or 'embedding' for the embedding layer).\n",
    "    - pooling_strategy: The strategy for pooling token vectors ('mean', 'max', 'sum', 'first', 'last').\n",
    "    - output_file: The filename for the saved plot (default: 'scatterplot.png').\n",
    "    \n",
    "    Returns:\n",
    "    - None\n",
    "    \"\"\"\n",
    "    similarities = get_similarities_for_word_pairs(model, tokenizer, word_pairs, layer, pooling_strategy)\n",
    "    \n",
    "    human_scores = [float(score) for _, _, score, _ in similarities]\n",
    "    cosine_similarities = [float(similarity) for _, _, _, similarity in similarities]\n",
    "    \n",
    "    # Convert lists to numpy arrays for linear regression\n",
    "    X = np.array(human_scores).reshape(-1, 1)\n",
    "    y = np.array(cosine_similarities)\n",
    "    \n",
    "    # Fit a linear regression model\n",
    "    reg = LinearRegression().fit(X, y)\n",
    "    trend_line = reg.predict(X)\n",
    "    \n",
    "    plt.figure(figsize=(6, 6))\n",
    "    plt.scatter(human_scores, cosine_similarities, alpha=0.6, edgecolors='w', linewidth=0.5)\n",
    "    plt.plot(human_scores, trend_line, color='red', linewidth=2, label='Trend')\n",
    "    plt.title('SimLex Ratings vs. Similarity Scores')\n",
    "    plt.xlabel('SimLex Rating')\n",
    "    plt.ylabel('Cosine Similarity')\n",
    "    plt.grid(True)\n",
    "    plt.legend()\n",
    "    \n",
    "    # Save the plot as an image file\n",
    "    plt.savefig(output_file, bbox_inches='tight')\n",
    "    plt.close()\n",
    "\n",
    "\n",
    "\n",
    "def get_sorted_similarities_for_word_pairs_df(model, tokenizer, word_pairs, layer='embedding', pooling_strategy='mean', reverse=True, top_n=None, groups=2):\n",
    "    \n",
    "    similarities = get_similarities_for_word_pairs(model, tokenizer, word_pairs, layer, pooling_strategy)\n",
    "    \n",
    "    def sort_key(item):\n",
    "        word1, word2, score, similarity = item\n",
    "        score_normalized = (score - 1) / 9\n",
    "        similarity_normalized = (similarity + 1) / 2\n",
    "        absolute_difference = abs(similarity_normalized - score_normalized)\n",
    "        return absolute_difference\n",
    "    \n",
    "    sorted_similarities = sorted(similarities, key=sort_key, reverse=reverse)\n",
    "    \n",
    "    extended_tuples = []\n",
    "    \n",
    "    for word1, word2, score, similarity in sorted_similarities:\n",
    "        score_normalized = (score - 1) / 9\n",
    "        similarity_normalized = (similarity + 1) / 2\n",
    "        absolute_difference = abs(similarity_normalized - score_normalized)\n",
    "        score_normalized_10 = score_normalized * 10\n",
    "        score_normalized_10 = round(score_normalized * 10, 2)\n",
    "        similarity_normalized_10 = round(similarity_normalized * 10, 2)\n",
    "        absolute_difference_10 = absolute_difference * 10\n",
    "        extended_tuples.append((word1, word2, score, similarity, score_normalized_10, similarity_normalized_10, absolute_difference_10))\n",
    "    \n",
    "    df = pd.DataFrame(extended_tuples, columns=['Word 1', 'Word 2', 'SimLex score', 'Cosine similarity', 'SimLex normalized', 'Cosine normalized', 'Absolute difference'])\n",
    "    \n",
    "    # Divide into groups\n",
    "    if groups == 2:\n",
    "        df['Group'] = pd.qcut(df['SimLex score'], q=2, labels=['Low', 'High'])\n",
    "    elif groups == 3:\n",
    "        df['Group'] = pd.qcut(df['SimLex score'], q=3, labels=['Low', 'Middle', 'High'])\n",
    "    \n",
    "    if top_n is not None:\n",
    "        return df.head(top_n)\n",
    "    else:\n",
    "        return df\n",
    "\n",
    "\n",
    "def get_min_cosine_normalized(df):\n",
    "    min_cosine_normalized = df['Cosine normalized'].min()\n",
    "    return min_cosine_normalized\n"
   ]
  },
  {
   "cell_type": "markdown",
   "metadata": {},
   "source": [
    "### Comparisons"
   ]
  },
  {
   "cell_type": "markdown",
   "metadata": {},
   "source": [
    "#### Spearman"
   ]
  },
  {
   "cell_type": "code",
   "execution_count": 17,
   "metadata": {},
   "outputs": [
    {
     "name": "stdout",
     "output_type": "stream",
     "text": [
      "Intel MKL WARNING: Support of Intel(R) Streaming SIMD Extensions 4.2 (Intel(R) SSE4.2) enabled only processors has been deprecated. Intel oneAPI Math Kernel Library 2025.0 will require Intel(R) Advanced Vector Extensions (Intel(R) AVX) instructions.\n"
     ]
    },
    {
     "data": {
      "text/plain": [
       "0.3639273284986334"
      ]
     },
     "execution_count": 17,
     "metadata": {},
     "output_type": "execute_result"
    }
   ],
   "source": [
    "calculate_spearman_total(model_wp, tokenizer_wp, simlex_pairs, layer='embedding', pooling_strategy='mean')"
   ]
  },
  {
   "cell_type": "code",
   "execution_count": 33,
   "metadata": {},
   "outputs": [
    {
     "name": "stdout",
     "output_type": "stream",
     "text": [
      "Intel MKL WARNING: Support of Intel(R) Streaming SIMD Extensions 4.2 (Intel(R) SSE4.2) enabled only processors has been deprecated. Intel oneAPI Math Kernel Library 2025.0 will require Intel(R) Advanced Vector Extensions (Intel(R) AVX) instructions.\n",
      "Intel MKL WARNING: Support of Intel(R) Streaming SIMD Extensions 4.2 (Intel(R) SSE4.2) enabled only processors has been deprecated. Intel oneAPI Math Kernel Library 2025.0 will require Intel(R) Advanced Vector Extensions (Intel(R) AVX) instructions.\n",
      "Intel MKL WARNING: Support of Intel(R) Streaming SIMD Extensions 4.2 (Intel(R) SSE4.2) enabled only processors has been deprecated. Intel oneAPI Math Kernel Library 2025.0 will require Intel(R) Advanced Vector Extensions (Intel(R) AVX) instructions.\n",
      "Intel MKL WARNING: Support of Intel(R) Streaming SIMD Extensions 4.2 (Intel(R) SSE4.2) enabled only processors has been deprecated. Intel oneAPI Math Kernel Library 2025.0 will require Intel(R) Advanced Vector Extensions (Intel(R) AVX) instructions.\n",
      "Intel MKL WARNING: Support of Intel(R) Streaming SIMD Extensions 4.2 (Intel(R) SSE4.2) enabled only processors has been deprecated. Intel oneAPI Math Kernel Library 2025.0 will require Intel(R) Advanced Vector Extensions (Intel(R) AVX) instructions.\n",
      "Intel MKL WARNING: Support of Intel(R) Streaming SIMD Extensions 4.2 (Intel(R) SSE4.2) enabled only processors has been deprecated. Intel oneAPI Math Kernel Library 2025.0 will require Intel(R) Advanced Vector Extensions (Intel(R) AVX) instructions.\n",
      "Intel MKL WARNING: Support of Intel(R) Streaming SIMD Extensions 4.2 (Intel(R) SSE4.2) enabled only processors has been deprecated. Intel oneAPI Math Kernel Library 2025.0 will require Intel(R) Advanced Vector Extensions (Intel(R) AVX) instructions.\n",
      "Intel MKL WARNING: Support of Intel(R) Streaming SIMD Extensions 4.2 (Intel(R) SSE4.2) enabled only processors has been deprecated. Intel oneAPI Math Kernel Library 2025.0 will require Intel(R) Advanced Vector Extensions (Intel(R) AVX) instructions.\n"
     ]
    },
    {
     "data": {
      "text/html": [
       "<div>\n",
       "<style scoped>\n",
       "    .dataframe tbody tr th:only-of-type {\n",
       "        vertical-align: middle;\n",
       "    }\n",
       "\n",
       "    .dataframe tbody tr th {\n",
       "        vertical-align: top;\n",
       "    }\n",
       "\n",
       "    .dataframe thead th {\n",
       "        text-align: right;\n",
       "    }\n",
       "</style>\n",
       "<table border=\"1\" class=\"dataframe\">\n",
       "  <thead>\n",
       "    <tr style=\"text-align: right;\">\n",
       "      <th></th>\n",
       "      <th>Model Name</th>\n",
       "      <th>No split</th>\n",
       "      <th>Morphological split</th>\n",
       "      <th>No morphological split</th>\n",
       "    </tr>\n",
       "  </thead>\n",
       "  <tbody>\n",
       "    <tr>\n",
       "      <th>0</th>\n",
       "      <td>BPE</td>\n",
       "      <td>0.311621</td>\n",
       "      <td>0.288543</td>\n",
       "      <td>0.044624</td>\n",
       "    </tr>\n",
       "    <tr>\n",
       "      <th>1</th>\n",
       "      <td>WP</td>\n",
       "      <td>0.407329</td>\n",
       "      <td>0.408414</td>\n",
       "      <td>0.500000</td>\n",
       "    </tr>\n",
       "    <tr>\n",
       "      <th>2</th>\n",
       "      <td>MORF</td>\n",
       "      <td>-0.044620</td>\n",
       "      <td>-0.014258</td>\n",
       "      <td>NaN</td>\n",
       "    </tr>\n",
       "  </tbody>\n",
       "</table>\n",
       "</div>"
      ],
      "text/plain": [
       "  Model Name  No split  Morphological split  No morphological split\n",
       "0        BPE  0.311621             0.288543                0.044624\n",
       "1         WP  0.407329             0.408414                0.500000\n",
       "2       MORF -0.044620            -0.014258                     NaN"
      ]
     },
     "execution_count": 33,
     "metadata": {},
     "output_type": "execute_result"
    }
   ],
   "source": [
    "names = ['BPE', 'WP', 'MORF']\n",
    "models = [model_bpe, model_wp, model_morf]\n",
    "tokenizers = [tokenizer_bpe, tokenizer_wp, tokenizer_morf]\n",
    "word_pair_groups = [bpe_pairs, wp_pairs, morf_pairs]\n",
    "\n",
    "create_spearman_dataframe(models, tokenizers, word_pair_groups, names)"
   ]
  },
  {
   "cell_type": "code",
   "execution_count": 52,
   "metadata": {},
   "outputs": [
    {
     "name": "stdout",
     "output_type": "stream",
     "text": [
      "Intel MKL WARNING: Support of Intel(R) Streaming SIMD Extensions 4.2 (Intel(R) SSE4.2) enabled only processors has been deprecated. Intel oneAPI Math Kernel Library 2025.0 will require Intel(R) Advanced Vector Extensions (Intel(R) AVX) instructions.\n",
      "Intel MKL WARNING: Support of Intel(R) Streaming SIMD Extensions 4.2 (Intel(R) SSE4.2) enabled only processors has been deprecated. Intel oneAPI Math Kernel Library 2025.0 will require Intel(R) Advanced Vector Extensions (Intel(R) AVX) instructions.\n",
      "Intel MKL WARNING: Support of Intel(R) Streaming SIMD Extensions 4.2 (Intel(R) SSE4.2) enabled only processors has been deprecated. Intel oneAPI Math Kernel Library 2025.0 will require Intel(R) Advanced Vector Extensions (Intel(R) AVX) instructions.\n",
      "Intel MKL WARNING: Support of Intel(R) Streaming SIMD Extensions 4.2 (Intel(R) SSE4.2) enabled only processors has been deprecated. Intel oneAPI Math Kernel Library 2025.0 will require Intel(R) Advanced Vector Extensions (Intel(R) AVX) instructions.\n",
      "Intel MKL WARNING: Support of Intel(R) Streaming SIMD Extensions 4.2 (Intel(R) SSE4.2) enabled only processors has been deprecated. Intel oneAPI Math Kernel Library 2025.0 will require Intel(R) Advanced Vector Extensions (Intel(R) AVX) instructions.\n",
      "Intel MKL WARNING: Support of Intel(R) Streaming SIMD Extensions 4.2 (Intel(R) SSE4.2) enabled only processors has been deprecated. Intel oneAPI Math Kernel Library 2025.0 will require Intel(R) Advanced Vector Extensions (Intel(R) AVX) instructions.\n",
      "Intel MKL WARNING: Support of Intel(R) Streaming SIMD Extensions 4.2 (Intel(R) SSE4.2) enabled only processors has been deprecated. Intel oneAPI Math Kernel Library 2025.0 will require Intel(R) Advanced Vector Extensions (Intel(R) AVX) instructions.\n",
      "Intel MKL WARNING: Support of Intel(R) Streaming SIMD Extensions 4.2 (Intel(R) SSE4.2) enabled only processors has been deprecated. Intel oneAPI Math Kernel Library 2025.0 will require Intel(R) Advanced Vector Extensions (Intel(R) AVX) instructions.\n",
      "Intel MKL WARNING: Support of Intel(R) Streaming SIMD Extensions 4.2 (Intel(R) SSE4.2) enabled only processors has been deprecated. Intel oneAPI Math Kernel Library 2025.0 will require Intel(R) Advanced Vector Extensions (Intel(R) AVX) instructions.\n",
      "Intel MKL WARNING: Support of Intel(R) Streaming SIMD Extensions 4.2 (Intel(R) SSE4.2) enabled only processors has been deprecated. Intel oneAPI Math Kernel Library 2025.0 will require Intel(R) Advanced Vector Extensions (Intel(R) AVX) instructions.\n",
      "Intel MKL WARNING: Support of Intel(R) Streaming SIMD Extensions 4.2 (Intel(R) SSE4.2) enabled only processors has been deprecated. Intel oneAPI Math Kernel Library 2025.0 will require Intel(R) Advanced Vector Extensions (Intel(R) AVX) instructions.\n",
      "Intel MKL WARNING: Support of Intel(R) Streaming SIMD Extensions 4.2 (Intel(R) SSE4.2) enabled only processors has been deprecated. Intel oneAPI Math Kernel Library 2025.0 will require Intel(R) Advanced Vector Extensions (Intel(R) AVX) instructions.\n",
      "Intel MKL WARNING: Support of Intel(R) Streaming SIMD Extensions 4.2 (Intel(R) SSE4.2) enabled only processors has been deprecated. Intel oneAPI Math Kernel Library 2025.0 will require Intel(R) Advanced Vector Extensions (Intel(R) AVX) instructions.\n",
      "Intel MKL WARNING: Support of Intel(R) Streaming SIMD Extensions 4.2 (Intel(R) SSE4.2) enabled only processors has been deprecated. Intel oneAPI Math Kernel Library 2025.0 will require Intel(R) Advanced Vector Extensions (Intel(R) AVX) instructions.\n",
      "Intel MKL WARNING: Support of Intel(R) Streaming SIMD Extensions 4.2 (Intel(R) SSE4.2) enabled only processors has been deprecated. Intel oneAPI Math Kernel Library 2025.0 will require Intel(R) Advanced Vector Extensions (Intel(R) AVX) instructions.\n",
      "Intel MKL WARNING: Support of Intel(R) Streaming SIMD Extensions 4.2 (Intel(R) SSE4.2) enabled only processors has been deprecated. Intel oneAPI Math Kernel Library 2025.0 will require Intel(R) Advanced Vector Extensions (Intel(R) AVX) instructions.\n",
      "Intel MKL WARNING: Support of Intel(R) Streaming SIMD Extensions 4.2 (Intel(R) SSE4.2) enabled only processors has been deprecated. Intel oneAPI Math Kernel Library 2025.0 will require Intel(R) Advanced Vector Extensions (Intel(R) AVX) instructions.\n",
      "Intel MKL WARNING: Support of Intel(R) Streaming SIMD Extensions 4.2 (Intel(R) SSE4.2) enabled only processors has been deprecated. Intel oneAPI Math Kernel Library 2025.0 will require Intel(R) Advanced Vector Extensions (Intel(R) AVX) instructions.\n",
      "Intel MKL WARNING: Support of Intel(R) Streaming SIMD Extensions 4.2 (Intel(R) SSE4.2) enabled only processors has been deprecated. Intel oneAPI Math Kernel Library 2025.0 will require Intel(R) Advanced Vector Extensions (Intel(R) AVX) instructions.\n",
      "Intel MKL WARNING: Support of Intel(R) Streaming SIMD Extensions 4.2 (Intel(R) SSE4.2) enabled only processors has been deprecated. Intel oneAPI Math Kernel Library 2025.0 will require Intel(R) Advanced Vector Extensions (Intel(R) AVX) instructions.\n",
      "Intel MKL WARNING: Support of Intel(R) Streaming SIMD Extensions 4.2 (Intel(R) SSE4.2) enabled only processors has been deprecated. Intel oneAPI Math Kernel Library 2025.0 will require Intel(R) Advanced Vector Extensions (Intel(R) AVX) instructions.\n",
      "Intel MKL WARNING: Support of Intel(R) Streaming SIMD Extensions 4.2 (Intel(R) SSE4.2) enabled only processors has been deprecated. Intel oneAPI Math Kernel Library 2025.0 will require Intel(R) Advanced Vector Extensions (Intel(R) AVX) instructions.\n",
      "Intel MKL WARNING: Support of Intel(R) Streaming SIMD Extensions 4.2 (Intel(R) SSE4.2) enabled only processors has been deprecated. Intel oneAPI Math Kernel Library 2025.0 will require Intel(R) Advanced Vector Extensions (Intel(R) AVX) instructions.\n",
      "Intel MKL WARNING: Support of Intel(R) Streaming SIMD Extensions 4.2 (Intel(R) SSE4.2) enabled only processors has been deprecated. Intel oneAPI Math Kernel Library 2025.0 will require Intel(R) Advanced Vector Extensions (Intel(R) AVX) instructions.\n",
      "Intel MKL WARNING: Support of Intel(R) Streaming SIMD Extensions 4.2 (Intel(R) SSE4.2) enabled only processors has been deprecated. Intel oneAPI Math Kernel Library 2025.0 will require Intel(R) Advanced Vector Extensions (Intel(R) AVX) instructions.\n",
      "Intel MKL WARNING: Support of Intel(R) Streaming SIMD Extensions 4.2 (Intel(R) SSE4.2) enabled only processors has been deprecated. Intel oneAPI Math Kernel Library 2025.0 will require Intel(R) Advanced Vector Extensions (Intel(R) AVX) instructions.\n",
      "Intel MKL WARNING: Support of Intel(R) Streaming SIMD Extensions 4.2 (Intel(R) SSE4.2) enabled only processors has been deprecated. Intel oneAPI Math Kernel Library 2025.0 will require Intel(R) Advanced Vector Extensions (Intel(R) AVX) instructions.\n",
      "Intel MKL WARNING: Support of Intel(R) Streaming SIMD Extensions 4.2 (Intel(R) SSE4.2) enabled only processors has been deprecated. Intel oneAPI Math Kernel Library 2025.0 will require Intel(R) Advanced Vector Extensions (Intel(R) AVX) instructions.\n"
     ]
    },
    {
     "data": {
      "text/html": [
       "<div>\n",
       "<style scoped>\n",
       "    .dataframe tbody tr th:only-of-type {\n",
       "        vertical-align: middle;\n",
       "    }\n",
       "\n",
       "    .dataframe tbody tr th {\n",
       "        vertical-align: top;\n",
       "    }\n",
       "\n",
       "    .dataframe thead th {\n",
       "        text-align: right;\n",
       "    }\n",
       "</style>\n",
       "<table border=\"1\" class=\"dataframe\">\n",
       "  <thead>\n",
       "    <tr style=\"text-align: right;\">\n",
       "      <th></th>\n",
       "      <th>Model</th>\n",
       "      <th>Spearman Both Split</th>\n",
       "      <th>Spearman Both No Split</th>\n",
       "      <th>Spearman One Split One Not</th>\n",
       "      <th>Spearman All Pairs</th>\n",
       "    </tr>\n",
       "  </thead>\n",
       "  <tbody>\n",
       "    <tr>\n",
       "      <th>0</th>\n",
       "      <td>BPE</td>\n",
       "      <td>0.242085</td>\n",
       "      <td>0.311621</td>\n",
       "      <td>0.141910</td>\n",
       "      <td>0.194628</td>\n",
       "    </tr>\n",
       "    <tr>\n",
       "      <th>1</th>\n",
       "      <td>WP</td>\n",
       "      <td>0.580279</td>\n",
       "      <td>0.407329</td>\n",
       "      <td>0.303843</td>\n",
       "      <td>0.363927</td>\n",
       "    </tr>\n",
       "    <tr>\n",
       "      <th>2</th>\n",
       "      <td>MORF</td>\n",
       "      <td>-0.005882</td>\n",
       "      <td>-0.044620</td>\n",
       "      <td>0.154075</td>\n",
       "      <td>0.022280</td>\n",
       "    </tr>\n",
       "    <tr>\n",
       "      <th>3</th>\n",
       "      <td>BERTje</td>\n",
       "      <td>0.438725</td>\n",
       "      <td>0.483388</td>\n",
       "      <td>0.336747</td>\n",
       "      <td>0.406424</td>\n",
       "    </tr>\n",
       "    <tr>\n",
       "      <th>4</th>\n",
       "      <td>RobBERT v2</td>\n",
       "      <td>0.198556</td>\n",
       "      <td>0.407215</td>\n",
       "      <td>0.177316</td>\n",
       "      <td>0.196875</td>\n",
       "    </tr>\n",
       "    <tr>\n",
       "      <th>5</th>\n",
       "      <td>RobBERT 22</td>\n",
       "      <td>0.206789</td>\n",
       "      <td>0.401648</td>\n",
       "      <td>0.170416</td>\n",
       "      <td>0.194182</td>\n",
       "    </tr>\n",
       "    <tr>\n",
       "      <th>6</th>\n",
       "      <td>RobBERT 23</td>\n",
       "      <td>0.041266</td>\n",
       "      <td>0.473195</td>\n",
       "      <td>0.337418</td>\n",
       "      <td>0.441597</td>\n",
       "    </tr>\n",
       "  </tbody>\n",
       "</table>\n",
       "</div>"
      ],
      "text/plain": [
       "        Model  Spearman Both Split  Spearman Both No Split  \\\n",
       "0         BPE             0.242085                0.311621   \n",
       "1          WP             0.580279                0.407329   \n",
       "2        MORF            -0.005882               -0.044620   \n",
       "3      BERTje             0.438725                0.483388   \n",
       "4  RobBERT v2             0.198556                0.407215   \n",
       "5  RobBERT 22             0.206789                0.401648   \n",
       "6  RobBERT 23             0.041266                0.473195   \n",
       "\n",
       "   Spearman One Split One Not  Spearman All Pairs  \n",
       "0                    0.141910            0.194628  \n",
       "1                    0.303843            0.363927  \n",
       "2                    0.154075            0.022280  \n",
       "3                    0.336747            0.406424  \n",
       "4                    0.177316            0.196875  \n",
       "5                    0.170416            0.194182  \n",
       "6                    0.337418            0.441597  "
      ]
     },
     "execution_count": 52,
     "metadata": {},
     "output_type": "execute_result"
    }
   ],
   "source": [
    "names = ['BPE', 'WP', 'MORF', 'BERTje', 'RobBERT v2', 'RobBERT 22', 'RobBERT 23']\n",
    "models = [model_bpe, model_wp, model_morf, model_bertje, model_robbertv2, model_robbert22, model_robbert23]\n",
    "tokenizers = [tokenizer_bpe, tokenizer_wp, tokenizer_morf, tokenizer_bertje, tokenizer_robbertv2, tokenizer_robbert22, tokenizer_robbert23]\n",
    "\n",
    "compare_models_a(names, models, tokenizers, simlex_pairs)"
   ]
  },
  {
   "cell_type": "code",
   "execution_count": 108,
   "metadata": {},
   "outputs": [
    {
     "name": "stdout",
     "output_type": "stream",
     "text": [
      "Intel MKL WARNING: Support of Intel(R) Streaming SIMD Extensions 4.2 (Intel(R) SSE4.2) enabled only processors has been deprecated. Intel oneAPI Math Kernel Library 2025.0 will require Intel(R) Advanced Vector Extensions (Intel(R) AVX) instructions.\n",
      "Intel MKL WARNING: Support of Intel(R) Streaming SIMD Extensions 4.2 (Intel(R) SSE4.2) enabled only processors has been deprecated. Intel oneAPI Math Kernel Library 2025.0 will require Intel(R) Advanced Vector Extensions (Intel(R) AVX) instructions.\n",
      "Intel MKL WARNING: Support of Intel(R) Streaming SIMD Extensions 4.2 (Intel(R) SSE4.2) enabled only processors has been deprecated. Intel oneAPI Math Kernel Library 2025.0 will require Intel(R) Advanced Vector Extensions (Intel(R) AVX) instructions.\n",
      "Intel MKL WARNING: Support of Intel(R) Streaming SIMD Extensions 4.2 (Intel(R) SSE4.2) enabled only processors has been deprecated. Intel oneAPI Math Kernel Library 2025.0 will require Intel(R) Advanced Vector Extensions (Intel(R) AVX) instructions.\n",
      "Intel MKL WARNING: Support of Intel(R) Streaming SIMD Extensions 4.2 (Intel(R) SSE4.2) enabled only processors has been deprecated. Intel oneAPI Math Kernel Library 2025.0 will require Intel(R) Advanced Vector Extensions (Intel(R) AVX) instructions.\n",
      "Intel MKL WARNING: Support of Intel(R) Streaming SIMD Extensions 4.2 (Intel(R) SSE4.2) enabled only processors has been deprecated. Intel oneAPI Math Kernel Library 2025.0 will require Intel(R) Advanced Vector Extensions (Intel(R) AVX) instructions.\n",
      "Intel MKL WARNING: Support of Intel(R) Streaming SIMD Extensions 4.2 (Intel(R) SSE4.2) enabled only processors has been deprecated. Intel oneAPI Math Kernel Library 2025.0 will require Intel(R) Advanced Vector Extensions (Intel(R) AVX) instructions.\n",
      "Intel MKL WARNING: Support of Intel(R) Streaming SIMD Extensions 4.2 (Intel(R) SSE4.2) enabled only processors has been deprecated. Intel oneAPI Math Kernel Library 2025.0 will require Intel(R) Advanced Vector Extensions (Intel(R) AVX) instructions.\n",
      "Intel MKL WARNING: Support of Intel(R) Streaming SIMD Extensions 4.2 (Intel(R) SSE4.2) enabled only processors has been deprecated. Intel oneAPI Math Kernel Library 2025.0 will require Intel(R) Advanced Vector Extensions (Intel(R) AVX) instructions.\n",
      "Intel MKL WARNING: Support of Intel(R) Streaming SIMD Extensions 4.2 (Intel(R) SSE4.2) enabled only processors has been deprecated. Intel oneAPI Math Kernel Library 2025.0 will require Intel(R) Advanced Vector Extensions (Intel(R) AVX) instructions.\n",
      "Intel MKL WARNING: Support of Intel(R) Streaming SIMD Extensions 4.2 (Intel(R) SSE4.2) enabled only processors has been deprecated. Intel oneAPI Math Kernel Library 2025.0 will require Intel(R) Advanced Vector Extensions (Intel(R) AVX) instructions.\n",
      "Intel MKL WARNING: Support of Intel(R) Streaming SIMD Extensions 4.2 (Intel(R) SSE4.2) enabled only processors has been deprecated. Intel oneAPI Math Kernel Library 2025.0 will require Intel(R) Advanced Vector Extensions (Intel(R) AVX) instructions.\n",
      "Intel MKL WARNING: Support of Intel(R) Streaming SIMD Extensions 4.2 (Intel(R) SSE4.2) enabled only processors has been deprecated. Intel oneAPI Math Kernel Library 2025.0 will require Intel(R) Advanced Vector Extensions (Intel(R) AVX) instructions.\n",
      "Intel MKL WARNING: Support of Intel(R) Streaming SIMD Extensions 4.2 (Intel(R) SSE4.2) enabled only processors has been deprecated. Intel oneAPI Math Kernel Library 2025.0 will require Intel(R) Advanced Vector Extensions (Intel(R) AVX) instructions.\n",
      "Intel MKL WARNING: Support of Intel(R) Streaming SIMD Extensions 4.2 (Intel(R) SSE4.2) enabled only processors has been deprecated. Intel oneAPI Math Kernel Library 2025.0 will require Intel(R) Advanced Vector Extensions (Intel(R) AVX) instructions.\n",
      "Intel MKL WARNING: Support of Intel(R) Streaming SIMD Extensions 4.2 (Intel(R) SSE4.2) enabled only processors has been deprecated. Intel oneAPI Math Kernel Library 2025.0 will require Intel(R) Advanced Vector Extensions (Intel(R) AVX) instructions.\n",
      "Intel MKL WARNING: Support of Intel(R) Streaming SIMD Extensions 4.2 (Intel(R) SSE4.2) enabled only processors has been deprecated. Intel oneAPI Math Kernel Library 2025.0 will require Intel(R) Advanced Vector Extensions (Intel(R) AVX) instructions.\n",
      "Intel MKL WARNING: Support of Intel(R) Streaming SIMD Extensions 4.2 (Intel(R) SSE4.2) enabled only processors has been deprecated. Intel oneAPI Math Kernel Library 2025.0 will require Intel(R) Advanced Vector Extensions (Intel(R) AVX) instructions.\n",
      "Intel MKL WARNING: Support of Intel(R) Streaming SIMD Extensions 4.2 (Intel(R) SSE4.2) enabled only processors has been deprecated. Intel oneAPI Math Kernel Library 2025.0 will require Intel(R) Advanced Vector Extensions (Intel(R) AVX) instructions.\n",
      "Intel MKL WARNING: Support of Intel(R) Streaming SIMD Extensions 4.2 (Intel(R) SSE4.2) enabled only processors has been deprecated. Intel oneAPI Math Kernel Library 2025.0 will require Intel(R) Advanced Vector Extensions (Intel(R) AVX) instructions.\n"
     ]
    },
    {
     "data": {
      "text/html": [
       "<div>\n",
       "<style scoped>\n",
       "    .dataframe tbody tr th:only-of-type {\n",
       "        vertical-align: middle;\n",
       "    }\n",
       "\n",
       "    .dataframe tbody tr th {\n",
       "        vertical-align: top;\n",
       "    }\n",
       "\n",
       "    .dataframe thead th {\n",
       "        text-align: right;\n",
       "    }\n",
       "</style>\n",
       "<table border=\"1\" class=\"dataframe\">\n",
       "  <thead>\n",
       "    <tr style=\"text-align: right;\">\n",
       "      <th></th>\n",
       "      <th>Model</th>\n",
       "      <th>Spearman Both Split</th>\n",
       "      <th>Spearman Both No Split</th>\n",
       "      <th>Spearman One Split One Not</th>\n",
       "      <th>Spearman All Pairs</th>\n",
       "    </tr>\n",
       "  </thead>\n",
       "  <tbody>\n",
       "    <tr>\n",
       "      <th>0</th>\n",
       "      <td>BPE</td>\n",
       "      <td>-0.008841</td>\n",
       "      <td>0.321070</td>\n",
       "      <td>-0.044461</td>\n",
       "      <td>-0.023529</td>\n",
       "    </tr>\n",
       "    <tr>\n",
       "      <th>1</th>\n",
       "      <td>WP</td>\n",
       "      <td>0.223025</td>\n",
       "      <td>0.341680</td>\n",
       "      <td>0.210002</td>\n",
       "      <td>0.191115</td>\n",
       "    </tr>\n",
       "    <tr>\n",
       "      <th>2</th>\n",
       "      <td>MORF</td>\n",
       "      <td>-0.067643</td>\n",
       "      <td>0.030683</td>\n",
       "      <td>0.013063</td>\n",
       "      <td>-0.018467</td>\n",
       "    </tr>\n",
       "    <tr>\n",
       "      <th>3</th>\n",
       "      <td>BERTje</td>\n",
       "      <td>0.610294</td>\n",
       "      <td>0.410066</td>\n",
       "      <td>0.260875</td>\n",
       "      <td>0.300526</td>\n",
       "    </tr>\n",
       "    <tr>\n",
       "      <th>4</th>\n",
       "      <td>robBERT</td>\n",
       "      <td>-0.115543</td>\n",
       "      <td>0.235053</td>\n",
       "      <td>0.060401</td>\n",
       "      <td>0.121643</td>\n",
       "    </tr>\n",
       "  </tbody>\n",
       "</table>\n",
       "</div>"
      ],
      "text/plain": [
       "     Model  Spearman Both Split  Spearman Both No Split  \\\n",
       "0      BPE            -0.008841                0.321070   \n",
       "1       WP             0.223025                0.341680   \n",
       "2     MORF            -0.067643                0.030683   \n",
       "3   BERTje             0.610294                0.410066   \n",
       "4  robBERT            -0.115543                0.235053   \n",
       "\n",
       "   Spearman One Split One Not  Spearman All Pairs  \n",
       "0                   -0.044461           -0.023529  \n",
       "1                    0.210002            0.191115  \n",
       "2                    0.013063           -0.018467  \n",
       "3                    0.260875            0.300526  \n",
       "4                    0.060401            0.121643  "
      ]
     },
     "execution_count": 108,
     "metadata": {},
     "output_type": "execute_result"
    }
   ],
   "source": [
    "names = ['BPE', 'WP', 'MORF', 'BERTje', 'RobBERT v2', 'RobBERT 22', 'RobBERT 23']\n",
    "models = [model_bpe, model_wp, model_morf, model_bertje, model_robbertv2, model_robbert22, model_robbert23]\n",
    "tokenizers = [tokenizer_bpe, tokenizer_wp, tokenizer_morf, tokenizer_bertje, tokenizer_robbertv2, tokenizer_robbert22, tokenizer_robbert23]\n",
    "\n",
    "compare_models_a(names, models, tokenizers, simlex_pairs, layer=1)"
   ]
  },
  {
   "cell_type": "markdown",
   "metadata": {},
   "source": [
    "#### BERTje"
   ]
  },
  {
   "cell_type": "code",
   "execution_count": 43,
   "metadata": {},
   "outputs": [
    {
     "data": {
      "text/html": [
       "<div>\n",
       "<style scoped>\n",
       "    .dataframe tbody tr th:only-of-type {\n",
       "        vertical-align: middle;\n",
       "    }\n",
       "\n",
       "    .dataframe tbody tr th {\n",
       "        vertical-align: top;\n",
       "    }\n",
       "\n",
       "    .dataframe thead th {\n",
       "        text-align: right;\n",
       "    }\n",
       "</style>\n",
       "<table border=\"1\" class=\"dataframe\">\n",
       "  <thead>\n",
       "    <tr style=\"text-align: right;\">\n",
       "      <th></th>\n",
       "      <th>Word 1</th>\n",
       "      <th>Word 2</th>\n",
       "      <th>SimLex score</th>\n",
       "      <th>Cosine similarity</th>\n",
       "      <th>SimLex normalized</th>\n",
       "      <th>Cosine normalized</th>\n",
       "      <th>Absolute difference</th>\n",
       "      <th>Group</th>\n",
       "    </tr>\n",
       "  </thead>\n",
       "  <tbody>\n",
       "    <tr>\n",
       "      <th>0</th>\n",
       "      <td>bereiken</td>\n",
       "      <td>volbrengen</td>\n",
       "      <td>6.14</td>\n",
       "      <td>0.143322</td>\n",
       "      <td>5.711111</td>\n",
       "      <td>5.716609</td>\n",
       "      <td>0.005498</td>\n",
       "      <td>High</td>\n",
       "    </tr>\n",
       "    <tr>\n",
       "      <th>1</th>\n",
       "      <td>strand</td>\n",
       "      <td>kust</td>\n",
       "      <td>7.20</td>\n",
       "      <td>0.379254</td>\n",
       "      <td>6.888889</td>\n",
       "      <td>6.896272</td>\n",
       "      <td>0.007383</td>\n",
       "      <td>High</td>\n",
       "    </tr>\n",
       "    <tr>\n",
       "      <th>2</th>\n",
       "      <td>argumenteren</td>\n",
       "      <td>bewijzen</td>\n",
       "      <td>6.23</td>\n",
       "      <td>0.165107</td>\n",
       "      <td>5.811111</td>\n",
       "      <td>5.825533</td>\n",
       "      <td>0.014422</td>\n",
       "      <td>High</td>\n",
       "    </tr>\n",
       "    <tr>\n",
       "      <th>3</th>\n",
       "      <td>bereiken</td>\n",
       "      <td>worden</td>\n",
       "      <td>5.70</td>\n",
       "      <td>0.039909</td>\n",
       "      <td>5.222222</td>\n",
       "      <td>5.199545</td>\n",
       "      <td>0.022677</td>\n",
       "      <td>High</td>\n",
       "    </tr>\n",
       "    <tr>\n",
       "      <th>4</th>\n",
       "      <td>agressie</td>\n",
       "      <td>vijandigheid</td>\n",
       "      <td>6.69</td>\n",
       "      <td>0.259877</td>\n",
       "      <td>6.322222</td>\n",
       "      <td>6.299383</td>\n",
       "      <td>0.022840</td>\n",
       "      <td>High</td>\n",
       "    </tr>\n",
       "    <tr>\n",
       "      <th>...</th>\n",
       "      <td>...</td>\n",
       "      <td>...</td>\n",
       "      <td>...</td>\n",
       "      <td>...</td>\n",
       "      <td>...</td>\n",
       "      <td>...</td>\n",
       "      <td>...</td>\n",
       "      <td>...</td>\n",
       "    </tr>\n",
       "    <tr>\n",
       "      <th>994</th>\n",
       "      <td>moeilijk</td>\n",
       "      <td>gemakkelijk</td>\n",
       "      <td>1.92</td>\n",
       "      <td>0.431242</td>\n",
       "      <td>1.022222</td>\n",
       "      <td>7.156210</td>\n",
       "      <td>6.133987</td>\n",
       "      <td>Low</td>\n",
       "    </tr>\n",
       "    <tr>\n",
       "      <th>995</th>\n",
       "      <td>noord</td>\n",
       "      <td>west</td>\n",
       "      <td>1.83</td>\n",
       "      <td>0.413574</td>\n",
       "      <td>0.922222</td>\n",
       "      <td>7.067871</td>\n",
       "      <td>6.145649</td>\n",
       "      <td>Low</td>\n",
       "    </tr>\n",
       "    <tr>\n",
       "      <th>996</th>\n",
       "      <td>maaltijd</td>\n",
       "      <td>staart</td>\n",
       "      <td>0.49</td>\n",
       "      <td>0.127152</td>\n",
       "      <td>-0.566667</td>\n",
       "      <td>5.635758</td>\n",
       "      <td>6.202425</td>\n",
       "      <td>Low</td>\n",
       "    </tr>\n",
       "    <tr>\n",
       "      <th>997</th>\n",
       "      <td>vinger</td>\n",
       "      <td>handpalm</td>\n",
       "      <td>1.15</td>\n",
       "      <td>0.277668</td>\n",
       "      <td>0.166667</td>\n",
       "      <td>6.388341</td>\n",
       "      <td>6.221674</td>\n",
       "      <td>Low</td>\n",
       "    </tr>\n",
       "    <tr>\n",
       "      <th>998</th>\n",
       "      <td>badkamer</td>\n",
       "      <td>slaapkamer</td>\n",
       "      <td>2.03</td>\n",
       "      <td>0.541856</td>\n",
       "      <td>1.144444</td>\n",
       "      <td>7.709281</td>\n",
       "      <td>6.564836</td>\n",
       "      <td>Low</td>\n",
       "    </tr>\n",
       "  </tbody>\n",
       "</table>\n",
       "<p>999 rows × 8 columns</p>\n",
       "</div>"
      ],
      "text/plain": [
       "           Word 1        Word 2  SimLex score  Cosine similarity  \\\n",
       "0        bereiken    volbrengen          6.14           0.143322   \n",
       "1          strand          kust          7.20           0.379254   \n",
       "2    argumenteren      bewijzen          6.23           0.165107   \n",
       "3        bereiken        worden          5.70           0.039909   \n",
       "4        agressie  vijandigheid          6.69           0.259877   \n",
       "..            ...           ...           ...                ...   \n",
       "994      moeilijk   gemakkelijk          1.92           0.431242   \n",
       "995         noord          west          1.83           0.413574   \n",
       "996      maaltijd        staart          0.49           0.127152   \n",
       "997        vinger      handpalm          1.15           0.277668   \n",
       "998      badkamer    slaapkamer          2.03           0.541856   \n",
       "\n",
       "     SimLex normalized  Cosine normalized  Absolute difference Group  \n",
       "0             5.711111           5.716609             0.005498  High  \n",
       "1             6.888889           6.896272             0.007383  High  \n",
       "2             5.811111           5.825533             0.014422  High  \n",
       "3             5.222222           5.199545             0.022677  High  \n",
       "4             6.322222           6.299383             0.022840  High  \n",
       "..                 ...                ...                  ...   ...  \n",
       "994           1.022222           7.156210             6.133987   Low  \n",
       "995           0.922222           7.067871             6.145649   Low  \n",
       "996          -0.566667           5.635758             6.202425   Low  \n",
       "997           0.166667           6.388341             6.221674   Low  \n",
       "998           1.144444           7.709281             6.564836   Low  \n",
       "\n",
       "[999 rows x 8 columns]"
      ]
     },
     "execution_count": 43,
     "metadata": {},
     "output_type": "execute_result"
    }
   ],
   "source": [
    "df = get_sorted_similarities_for_word_pairs_df(model_bertje, tokenizer_bertje, simlex_pairs, reverse=False)\n",
    "df\n"
   ]
  },
  {
   "cell_type": "code",
   "execution_count": 44,
   "metadata": {},
   "outputs": [
    {
     "data": {
      "text/plain": [
       "3.9595580101013184"
      ]
     },
     "execution_count": 44,
     "metadata": {},
     "output_type": "execute_result"
    }
   ],
   "source": [
    "get_min_cosine_normalized(df)"
   ]
  },
  {
   "cell_type": "code",
   "execution_count": 525,
   "metadata": {},
   "outputs": [
    {
     "name": "stdout",
     "output_type": "stream",
     "text": [
      "Best matches between simlex and model:\n",
      "\n",
      "('bereiken', 'volbrengen', 6.14, 0.14332172274589539, 0.0005497502618365679)\n",
      "('strand', 'kust', 7.2, 0.3792543411254883, 0.0007382816738552567)\n",
      "('argumenteren', 'bewijzen', 6.23, 0.1651066392660141, 0.0014422085218959158)\n",
      "('bereiken', 'worden', 5.7, 0.03990896791219711, 0.0022677382661236978)\n",
      "('agressie', 'vijandigheid', 6.69, 0.2598765194416046, 0.002283962501419934)\n",
      "('blik', 'aluminium', 5.78, 0.048442963510751724, 0.006889629355735227)\n",
      "('gelukkig', 'blij', 7.09, 0.33717864751815796, 0.008077342907587659)\n",
      "('luisteren', 'gehoorzamen', 6.05, 0.1037612110376358, 0.009230505592293214)\n",
      "('beslissen', 'kiezen', 6.91, 0.3318631947040558, 0.009264930685361161)\n",
      "('wolk', 'mist', 6.5, 0.2029011994600296, 0.00966051138109636)\n"
     ]
    }
   ],
   "source": [
    "print_similarities(model_bertje, tokenizer_bertje, simlex_pairs, reverse=False)"
   ]
  },
  {
   "cell_type": "code",
   "execution_count": 526,
   "metadata": {},
   "outputs": [
    {
     "name": "stdout",
     "output_type": "stream",
     "text": [
      "Worst matches between simlex and model:\n",
      "\n",
      "('badkamer', 'slaapkamer', 2.03, 0.5418561100959778, 0.6564836106035444)\n",
      "('vinger', 'handpalm', 1.15, 0.27766817808151245, 0.6221674223740896)\n",
      "('maaltijd', 'staart', 0.49, 0.12715166807174683, 0.6202425007025401)\n",
      "('noord', 'west', 1.83, 0.4135742783546448, 0.6145649169551002)\n",
      "('moeilijk', 'gemakkelijk', 1.92, 0.4312419295310974, 0.6133987425433265)\n",
      "('tandarts', 'kolonel', 0.7, 0.1575966775417328, 0.6121316721041997)\n",
      "('balk', 'kooi', 0.72, 0.1614702045917511, 0.6118462134069866)\n",
      "('doos', 'hoed', 0.93, 0.2047705501317978, 0.6101630528436767)\n",
      "('dak', 'vloer', 1.15, 0.25117334723472595, 0.6089200069506964)\n",
      "('geven', 'weigeren', 0.9, 0.19321832060813904, 0.6077202714151806)\n"
     ]
    }
   ],
   "source": [
    "print_similarities(model_bertje, tokenizer_bertje, simlex_pairs, reverse=True)"
   ]
  },
  {
   "cell_type": "code",
   "execution_count": 446,
   "metadata": {},
   "outputs": [
    {
     "data": {
      "image/png": "[encoded data removed]",
      "text/plain": [
       "<Figure size 600x600 with 1 Axes>"
      ]
     },
     "metadata": {},
     "output_type": "display_data"
    }
   ],
   "source": [
    "plot_similarities_scatterplot(model_bertje, tokenizer_bertje, simlex_pairs) #new"
   ]
  },
  {
   "cell_type": "markdown",
   "metadata": {},
   "source": [
    "#### robBERT"
   ]
  },
  {
   "cell_type": "code",
   "execution_count": 387,
   "metadata": {},
   "outputs": [
    {
     "name": "stdout",
     "output_type": "stream",
     "text": [
      "Best matches between simlex and model:\n",
      "\n",
      "('rondzwerven', 'dwalen', 7.83, 0.5158247351646423)\n",
      "('arts', 'dokter', 9.28, 0.8375405073165894)\n",
      "('vlug', 'snel', 8.95, 0.7624897956848145)\n",
      "('muziekgroep', 'orkest', 8.04, 0.5696713924407959)\n",
      "('bedrijf', 'onderneming', 8.72, 0.7219323515892029)\n",
      "('cruciaal', 'belangrijk', 8.59, 0.678463339805603)\n",
      "('competentie', 'vermogen', 7.73, 0.47562283277511597)\n",
      "('zelfverzekerd', 'zeker', 7.49, 0.4654563069343567)\n",
      "('maken', 'opbouwen', 7.65, 0.4543026089668274)\n",
      "('essentieel', 'noodzakelijk', 8.55, 0.6499861478805542)\n"
     ]
    }
   ],
   "source": [
    "print_similarities(model_robbert, tokenizer_robbert, simlex_pairs, reverse=False)"
   ]
  },
  {
   "cell_type": "code",
   "execution_count": 388,
   "metadata": {},
   "outputs": [
    {
     "name": "stdout",
     "output_type": "stream",
     "text": [
      "Worst matches between simlex and model:\n",
      "\n",
      "('tandarts', 'kolonel', 0.7, 0.5383347272872925)\n",
      "('noord', 'west', 1.83, 0.7810719013214111)\n",
      "('water', 'zout', 0.87, 0.5566100478172302)\n",
      "('boomstam', 'bad', 0.96, 0.573367178440094)\n",
      "('volkslied', 'rietje', 0.87, 0.5489444732666016)\n",
      "('kerel', 'meisje', 1.14, 0.5883347392082214)\n",
      "('dak', 'vloer', 1.15, 0.5899280905723572)\n",
      "('meisje', 'dienstmeisje', 1.93, 0.7558972239494324)\n",
      "('binnentreden', 'verschuldigd zijn', 1.07, 0.5633722543716431)\n",
      "('balk', 'kooi', 0.72, 0.48460230231285095)\n"
     ]
    }
   ],
   "source": [
    "print_similarities(model_robbert, tokenizer_robbert, simlex_pairs, reverse=True)"
   ]
  },
  {
   "cell_type": "code",
   "execution_count": 352,
   "metadata": {},
   "outputs": [
    {
     "data": {
      "image/png": "[encoded data removed]",
      "text/plain": [
       "<Figure size 1000x600 with 1 Axes>"
      ]
     },
     "metadata": {},
     "output_type": "display_data"
    }
   ],
   "source": [
    "plot_similarities_scatterplot(model_robbert, tokenizer_robbert, simlex_pairs) # new"
   ]
  },
  {
   "cell_type": "markdown",
   "metadata": {},
   "source": [
    "#### WP"
   ]
  },
  {
   "cell_type": "code",
   "execution_count": 508,
   "metadata": {},
   "outputs": [
    {
     "data": {
      "text/html": [
       "<div>\n",
       "<style scoped>\n",
       "    .dataframe tbody tr th:only-of-type {\n",
       "        vertical-align: middle;\n",
       "    }\n",
       "\n",
       "    .dataframe tbody tr th {\n",
       "        vertical-align: top;\n",
       "    }\n",
       "\n",
       "    .dataframe thead th {\n",
       "        text-align: right;\n",
       "    }\n",
       "</style>\n",
       "<table border=\"1\" class=\"dataframe\">\n",
       "  <thead>\n",
       "    <tr style=\"text-align: right;\">\n",
       "      <th></th>\n",
       "      <th>Word 1</th>\n",
       "      <th>Word 2</th>\n",
       "      <th>SimLex score</th>\n",
       "      <th>Cosine similarity</th>\n",
       "      <th>SimLex normalized</th>\n",
       "      <th>Cosine normalized</th>\n",
       "      <th>Absolute difference</th>\n",
       "      <th>Group</th>\n",
       "    </tr>\n",
       "  </thead>\n",
       "  <tbody>\n",
       "    <tr>\n",
       "      <th>0</th>\n",
       "      <td>delen</td>\n",
       "      <td>melden</td>\n",
       "      <td>6.10</td>\n",
       "      <td>0.128541</td>\n",
       "      <td>5.67</td>\n",
       "      <td>5.64</td>\n",
       "      <td>0.023961</td>\n",
       "      <td>High</td>\n",
       "    </tr>\n",
       "    <tr>\n",
       "      <th>1</th>\n",
       "      <td>gelukkigheid</td>\n",
       "      <td>geluk</td>\n",
       "      <td>6.60</td>\n",
       "      <td>0.237426</td>\n",
       "      <td>6.22</td>\n",
       "      <td>6.19</td>\n",
       "      <td>0.035095</td>\n",
       "      <td>High</td>\n",
       "    </tr>\n",
       "    <tr>\n",
       "      <th>2</th>\n",
       "      <td>leider</td>\n",
       "      <td>manager</td>\n",
       "      <td>7.14</td>\n",
       "      <td>0.356518</td>\n",
       "      <td>6.82</td>\n",
       "      <td>6.78</td>\n",
       "      <td>0.039632</td>\n",
       "      <td>High</td>\n",
       "    </tr>\n",
       "    <tr>\n",
       "      <th>3</th>\n",
       "      <td>beschermen</td>\n",
       "      <td>verdedigen</td>\n",
       "      <td>7.60</td>\n",
       "      <td>0.457194</td>\n",
       "      <td>7.33</td>\n",
       "      <td>7.29</td>\n",
       "      <td>0.047365</td>\n",
       "      <td>High</td>\n",
       "    </tr>\n",
       "    <tr>\n",
       "      <th>4</th>\n",
       "      <td>wolk</td>\n",
       "      <td>mist</td>\n",
       "      <td>6.50</td>\n",
       "      <td>0.232428</td>\n",
       "      <td>6.11</td>\n",
       "      <td>6.16</td>\n",
       "      <td>0.051028</td>\n",
       "      <td>High</td>\n",
       "    </tr>\n",
       "    <tr>\n",
       "      <th>...</th>\n",
       "      <td>...</td>\n",
       "      <td>...</td>\n",
       "      <td>...</td>\n",
       "      <td>...</td>\n",
       "      <td>...</td>\n",
       "      <td>...</td>\n",
       "      <td>...</td>\n",
       "      <td>...</td>\n",
       "    </tr>\n",
       "    <tr>\n",
       "      <th>994</th>\n",
       "      <td>biografie</td>\n",
       "      <td>fictie</td>\n",
       "      <td>1.00</td>\n",
       "      <td>0.280114</td>\n",
       "      <td>0.00</td>\n",
       "      <td>6.40</td>\n",
       "      <td>6.400571</td>\n",
       "      <td>Low</td>\n",
       "    </tr>\n",
       "    <tr>\n",
       "      <th>995</th>\n",
       "      <td>zuid</td>\n",
       "      <td>noord</td>\n",
       "      <td>2.93</td>\n",
       "      <td>0.709810</td>\n",
       "      <td>2.14</td>\n",
       "      <td>8.55</td>\n",
       "      <td>6.404607</td>\n",
       "      <td>Low</td>\n",
       "    </tr>\n",
       "    <tr>\n",
       "      <th>996</th>\n",
       "      <td>vertrekken</td>\n",
       "      <td>verschijnen</td>\n",
       "      <td>1.27</td>\n",
       "      <td>0.349760</td>\n",
       "      <td>0.30</td>\n",
       "      <td>6.75</td>\n",
       "      <td>6.448802</td>\n",
       "      <td>Low</td>\n",
       "    </tr>\n",
       "    <tr>\n",
       "      <th>997</th>\n",
       "      <td>onderkant</td>\n",
       "      <td>zijkant</td>\n",
       "      <td>2.15</td>\n",
       "      <td>0.568047</td>\n",
       "      <td>1.28</td>\n",
       "      <td>7.84</td>\n",
       "      <td>6.562456</td>\n",
       "      <td>Low</td>\n",
       "    </tr>\n",
       "    <tr>\n",
       "      <th>998</th>\n",
       "      <td>noord</td>\n",
       "      <td>west</td>\n",
       "      <td>1.83</td>\n",
       "      <td>0.549156</td>\n",
       "      <td>0.92</td>\n",
       "      <td>7.75</td>\n",
       "      <td>6.823560</td>\n",
       "      <td>Low</td>\n",
       "    </tr>\n",
       "  </tbody>\n",
       "</table>\n",
       "<p>999 rows × 8 columns</p>\n",
       "</div>"
      ],
      "text/plain": [
       "           Word 1       Word 2  SimLex score  Cosine similarity  \\\n",
       "0           delen       melden          6.10           0.128541   \n",
       "1    gelukkigheid        geluk          6.60           0.237426   \n",
       "2          leider      manager          7.14           0.356518   \n",
       "3      beschermen   verdedigen          7.60           0.457194   \n",
       "4            wolk         mist          6.50           0.232428   \n",
       "..            ...          ...           ...                ...   \n",
       "994     biografie       fictie          1.00           0.280114   \n",
       "995          zuid        noord          2.93           0.709810   \n",
       "996    vertrekken  verschijnen          1.27           0.349760   \n",
       "997     onderkant      zijkant          2.15           0.568047   \n",
       "998         noord         west          1.83           0.549156   \n",
       "\n",
       "     SimLex normalized  Cosine normalized  Absolute difference Group  \n",
       "0                 5.67               5.64             0.023961  High  \n",
       "1                 6.22               6.19             0.035095  High  \n",
       "2                 6.82               6.78             0.039632  High  \n",
       "3                 7.33               7.29             0.047365  High  \n",
       "4                 6.11               6.16             0.051028  High  \n",
       "..                 ...                ...                  ...   ...  \n",
       "994               0.00               6.40             6.400571   Low  \n",
       "995               2.14               8.55             6.404607   Low  \n",
       "996               0.30               6.75             6.448802   Low  \n",
       "997               1.28               7.84             6.562456   Low  \n",
       "998               0.92               7.75             6.823560   Low  \n",
       "\n",
       "[999 rows x 8 columns]"
      ]
     },
     "execution_count": 508,
     "metadata": {},
     "output_type": "execute_result"
    }
   ],
   "source": [
    "get_sorted_similarities_for_word_pairs_df(model_wp, tokenizer_wp, simlex_pairs, reverse=False)"
   ]
  },
  {
   "cell_type": "code",
   "execution_count": 511,
   "metadata": {},
   "outputs": [
    {
     "name": "stdout",
     "output_type": "stream",
     "text": [
      "\\begin{tabular}{llrr}\n",
      "\\toprule\n",
      "Word 1 & Word 2 & SimLex normalized & Cosine normalized \\\\\n",
      "\\midrule\n",
      "delen & melden & 5.670000 & 5.640000 \\\\\n",
      "gelukkigheid & geluk & 6.220000 & 6.190000 \\\\\n",
      "leider & manager & 6.820000 & 6.780000 \\\\\n",
      "beschermen & verdedigen & 7.330000 & 7.290000 \\\\\n",
      "wolk & mist & 6.110000 & 6.160000 \\\\\n",
      "biografie & fictie & 0.000000 & 6.400000 \\\\\n",
      "zuid & noord & 2.140000 & 8.550000 \\\\\n",
      "vertrekken & verschijnen & 0.300000 & 6.750000 \\\\\n",
      "onderkant & zijkant & 1.280000 & 7.840000 \\\\\n",
      "noord & west & 0.920000 & 7.750000 \\\\\n",
      "\\bottomrule\n",
      "\\end{tabular}\n",
      "\n"
     ]
    }
   ],
   "source": [
    "# to lateX\n",
    "\n",
    "df = get_sorted_similarities_for_word_pairs_df(model_wp, tokenizer_wp, simlex_pairs, reverse=False)\n",
    "\n",
    "# df['SimLex normalized'] = df['SimLex normalized'].apply(lambda x: f'{x:.2f}'.rstrip('0').rstrip('.'))\n",
    "# df['Cosine normalized'] = df['Cosine normalized'].apply(lambda x: f'{x:.2f}'.rstrip('0').rstrip('.'))\n",
    "\n",
    "\n",
    "subset_df_top = df.head(5)[['Word 1', 'Word 2', 'SimLex normalized', 'Cosine normalized']]\n",
    "subset_df_bottom = df.tail(5)[['Word 1', 'Word 2', 'SimLex normalized', 'Cosine normalized']]\n",
    "\n",
    "subset_df = pd.concat([subset_df_top, subset_df_bottom])\n",
    "\n",
    "# Convert the subset to a LaTeX table\n",
    "latex_table = subset_df.to_latex(index=False)\n",
    "\n",
    "print(latex_table)"
   ]
  },
  {
   "cell_type": "code",
   "execution_count": 514,
   "metadata": {},
   "outputs": [
    {
     "name": "stdout",
     "output_type": "stream",
     "text": [
      "biografie fictie 1.00 N\n"
     ]
    }
   ],
   "source": [
    "for word1, word2, s, c in simlex_pairs:\n",
    "    if word1 == 'biografie':\n",
    "        print(word1, word2, s, c)"
   ]
  },
  {
   "cell_type": "code",
   "execution_count": 389,
   "metadata": {},
   "outputs": [
    {
     "name": "stdout",
     "output_type": "stream",
     "text": [
      "Best matches between simlex and model:\n",
      "\n",
      "('delen', 'melden', 6.1, 0.12854108214378357)\n",
      "('gelukkigheid', 'geluk', 6.6, 0.23742550611495972)\n",
      "('leider', 'manager', 7.14, 0.3565180003643036)\n",
      "('beschermen', 'verdedigen', 7.6, 0.4571937024593353)\n",
      "('wolk', 'mist', 6.5, 0.23242776095867157)\n",
      "('agressie', 'vijandigheid', 6.69, 0.25388699769973755)\n",
      "('gelukkig', 'blij', 7.09, 0.3651888966560364)\n",
      "('echtgenote', 'echtgenoot', 7.6, 0.48004746437072754)\n",
      "('paard', 'merrie', 7.07, 0.33411872386932373)\n",
      "('blik', 'aluminium', 5.78, 0.04521859809756279)\n"
     ]
    }
   ],
   "source": [
    "print_similarities(model_wp, tokenizer_wp, simlex_pairs, reverse=False)"
   ]
  },
  {
   "cell_type": "code",
   "execution_count": 390,
   "metadata": {},
   "outputs": [
    {
     "name": "stdout",
     "output_type": "stream",
     "text": [
      "Worst matches between simlex and model:\n",
      "\n",
      "('noord', 'west', 1.83, 0.5491564273834229)\n",
      "('onderkant', 'zijkant', 2.15, 0.5680468082427979)\n",
      "('vertrekken', 'verschijnen', 1.27, 0.3497604429721832)\n",
      "('zuid', 'noord', 2.93, 0.7098103165626526)\n",
      "('biografie', 'fictie', 1.0, 0.28011417388916016)\n",
      "('water', 'zout', 0.87, 0.24413353204727173)\n",
      "('geweldig', 'vreselijk', 2.0, 0.49406948685646057)\n",
      "('darm', 'zenuw', 1.18, 0.31180518865585327)\n",
      "('vlees', 'brood', 1.41, 0.35813480615615845)\n",
      "('badkamer', 'slaapkamer', 2.03, 0.49263718724250793)\n"
     ]
    }
   ],
   "source": [
    "print_similarities(model_wp, tokenizer_wp, simlex_pairs, reverse=True)"
   ]
  },
  {
   "cell_type": "code",
   "execution_count": 447,
   "metadata": {},
   "outputs": [
    {
     "data": {
      "image/png": "[encoded data removed]",
      "text/plain": [
       "<Figure size 600x600 with 1 Axes>"
      ]
     },
     "metadata": {},
     "output_type": "display_data"
    }
   ],
   "source": [
    "plot_similarities_scatterplot(model_wp, tokenizer_wp, simlex_pairs)"
   ]
  },
  {
   "cell_type": "code",
   "execution_count": 499,
   "metadata": {},
   "outputs": [
    {
     "data": {
      "image/png": "[encoded data removed]",
      "text/plain": [
       "<Figure size 600x600 with 1 Axes>"
      ]
     },
     "metadata": {},
     "output_type": "display_data"
    }
   ],
   "source": [
    "plot_similarities_scatterplot(model_wp, tokenizer_wp, wp_pairs[0])"
   ]
  },
  {
   "cell_type": "code",
   "execution_count": 500,
   "metadata": {},
   "outputs": [
    {
     "data": {
      "image/png": "[encoded data removed]",
      "text/plain": [
       "<Figure size 600x600 with 1 Axes>"
      ]
     },
     "metadata": {},
     "output_type": "display_data"
    }
   ],
   "source": [
    "plot_similarities_scatterplot(model_wp, tokenizer_wp, wp_pairs[1])"
   ]
  },
  {
   "cell_type": "code",
   "execution_count": 449,
   "metadata": {},
   "outputs": [],
   "source": [
    "plot_similarities_scatterplot_save(model_wp, tokenizer_wp, simlex_pairs, output_file='scatterplot_wp.png')"
   ]
  },
  {
   "cell_type": "code",
   "execution_count": 515,
   "metadata": {},
   "outputs": [
    {
     "name": "stdout",
     "output_type": "stream",
     "text": [
      "\\begin{tabular}{llrr}\n",
      "\\toprule\n",
      "Word 1 & Word 2 & SimLex normalized & Cosine normalized \\\\\n",
      "\\midrule\n",
      "slecht & verschrikkelijk & 6.590000 & 6.590000 \\\\\n",
      "leider & manager & 6.820000 & 6.840000 \\\\\n",
      "leraar & instructeur & 7.410000 & 7.440000 \\\\\n",
      "slecht & vreselijk & 5.460000 & 5.490000 \\\\\n",
      "koesteren & houden & 5.620000 & 5.590000 \\\\\n",
      "desorganiseren & organiseren & 1.870000 & 9.220000 \\\\\n",
      "zelfvertrouwen & zelf & 1.220000 & 8.630000 \\\\\n",
      "besteden & redden & 0.070000 & 7.670000 \\\\\n",
      "meisje & dienstmeisje & 1.030000 & 8.860000 \\\\\n",
      "aanmoedigen & ontmoedigen & 0.790000 & 9.000000 \\\\\n",
      "\\bottomrule\n",
      "\\end{tabular}\n",
      "\n"
     ]
    }
   ],
   "source": [
    "# to lateX\n",
    "\n",
    "df = get_sorted_similarities_for_word_pairs_df(model_bpe, tokenizer_bpe, simlex_pairs, reverse=False)\n",
    "\n",
    "# df['SimLex normalized'] = df['SimLex normalized'].apply(lambda x: f'{x:.2f}'.rstrip('0').rstrip('.'))\n",
    "# df['Cosine normalized'] = df['Cosine normalized'].apply(lambda x: f'{x:.2f}'.rstrip('0').rstrip('.'))\n",
    "\n",
    "\n",
    "subset_df_top = df.head(5)[['Word 1', 'Word 2', 'SimLex normalized', 'Cosine normalized']]\n",
    "subset_df_bottom = df.tail(5)[['Word 1', 'Word 2', 'SimLex normalized', 'Cosine normalized']]\n",
    "\n",
    "subset_df = pd.concat([subset_df_top, subset_df_bottom])\n",
    "\n",
    "# Convert the subset to a LaTeX table\n",
    "latex_table = subset_df.to_latex(index=False)\n",
    "\n",
    "print(latex_table)"
   ]
  },
  {
   "cell_type": "markdown",
   "metadata": {},
   "source": [
    "#### BPE"
   ]
  },
  {
   "cell_type": "code",
   "execution_count": 391,
   "metadata": {},
   "outputs": [
    {
     "name": "stdout",
     "output_type": "stream",
     "text": [
      "Best matches between simlex and model:\n",
      "\n",
      "('slecht', 'verschrikkelijk', 6.93, 0.318558931350708)\n",
      "('leider', 'manager', 7.14, 0.36725011467933655)\n",
      "('leraar', 'instructeur', 7.67, 0.48734602332115173)\n",
      "('slecht', 'vreselijk', 5.91, 0.09740924090147018)\n",
      "('koesteren', 'houden', 6.06, 0.11800254881381989)\n",
      "('kinderbed', 'wieg', 6.15, 0.15113194286823273)\n",
      "('gelukkig', 'vrolijk', 6.49, 0.22873196005821228)\n",
      "('student', 'leerling', 7.77, 0.5135403275489807)\n",
      "('huis', 'appartement', 6.3, 0.19154810905456543)\n",
      "('wijsheid', 'intelligentie', 6.42, 0.18948839604854584)\n"
     ]
    }
   ],
   "source": [
    "print_similarities(model_bpe, tokenizer_bpe, simlex_pairs, reverse=False)"
   ]
  },
  {
   "cell_type": "code",
   "execution_count": 392,
   "metadata": {},
   "outputs": [
    {
     "name": "stdout",
     "output_type": "stream",
     "text": [
      "Worst matches between simlex and model:\n",
      "\n",
      "('aanmoedigen', 'ontmoedigen', 1.71, 0.7990370392799377)\n",
      "('meisje', 'dienstmeisje', 1.93, 0.7727886438369751)\n",
      "('besteden', 'redden', 1.06, 0.5332357287406921)\n",
      "('zelfvertrouwen', 'zelf', 2.1, 0.7268949151039124)\n",
      "('desorganiseren', 'organiseren', 2.68, 0.8448622226715088)\n",
      "('afwezigheid', 'aanwezigheid', 2.54, 0.7985525131225586)\n",
      "('lenen', 'verkopen', 1.28, 0.4683755040168762)\n",
      "('maaltijd', 'staart', 0.49, 0.2856150269508362)\n",
      "('container', 'muis', 0.94, 0.3501855134963989)\n",
      "('vinger', 'handpalm', 1.15, 0.38050419092178345)\n"
     ]
    }
   ],
   "source": [
    "print_similarities(model_bpe, tokenizer_bpe, simlex_pairs, reverse=True)"
   ]
  },
  {
   "cell_type": "code",
   "execution_count": 448,
   "metadata": {},
   "outputs": [
    {
     "data": {
      "image/png": "[encoded data removed]",
      "text/plain": [
       "<Figure size 600x600 with 1 Axes>"
      ]
     },
     "metadata": {},
     "output_type": "display_data"
    }
   ],
   "source": [
    "plot_similarities_scatterplot(model_bpe, tokenizer_bpe, simlex_pairs) # new"
   ]
  },
  {
   "cell_type": "code",
   "execution_count": 450,
   "metadata": {},
   "outputs": [],
   "source": [
    "plot_similarities_scatterplot_save(model_bpe, tokenizer_bpe, simlex_pairs, output_file='scatterplot_bpe.png')"
   ]
  },
  {
   "cell_type": "code",
   "execution_count": 517,
   "metadata": {},
   "outputs": [
    {
     "name": "stdout",
     "output_type": "stream",
     "text": [
      "\\begin{tabular}{llll}\n",
      "\\toprule\n",
      "Word 1 & Word 2 & SimLex normalized & Cosine normalized \\\\\n",
      "\\midrule\n",
      "stijl & mode & 5.64 & 5.65 \\\\\n",
      "bruidegom & bruid & 5.5 & 5.5 \\\\\n",
      "maat & omvang & 5 & 5 \\\\\n",
      "dood & tragedie & 4.92 & 4.91 \\\\\n",
      "muziek & melodie & 4.73 & 4.72 \\\\\n",
      "besteden & redden & 0.07 & 7.36 \\\\\n",
      "verliezen & houden & 0.1 & 7.66 \\\\\n",
      "badkamer & slaapkamer & 1.14 & 8.81 \\\\\n",
      "lenen & verkopen & 0.31 & 8.07 \\\\\n",
      "aanmoedigen & ontmoedigen & 0.79 & 9.01 \\\\\n",
      "\\bottomrule\n",
      "\\end{tabular}\n",
      "\n"
     ]
    }
   ],
   "source": [
    "# to lateX\n",
    "\n",
    "df = get_sorted_similarities_for_word_pairs_df(model_morf, tokenizer_morf, simlex_pairs, reverse=False)\n",
    "\n",
    "df['SimLex normalized'] = df['SimLex normalized'].apply(lambda x: f'{x:.2f}'.rstrip('0').rstrip('.'))\n",
    "df['Cosine normalized'] = df['Cosine normalized'].apply(lambda x: f'{x:.2f}'.rstrip('0').rstrip('.'))\n",
    "\n",
    "\n",
    "subset_df_top = df.head(5)[['Word 1', 'Word 2', 'SimLex normalized', 'Cosine normalized']]\n",
    "subset_df_bottom = df.tail(5)[['Word 1', 'Word 2', 'SimLex normalized', 'Cosine normalized']]\n",
    "\n",
    "subset_df = pd.concat([subset_df_top, subset_df_bottom])\n",
    "\n",
    "# Convert the subset to a LaTeX table\n",
    "latex_table = subset_df.to_latex(index=False)\n",
    "\n",
    "print(latex_table)"
   ]
  },
  {
   "cell_type": "markdown",
   "metadata": {},
   "source": [
    "#### MORF"
   ]
  },
  {
   "cell_type": "code",
   "execution_count": 586,
   "metadata": {},
   "outputs": [
    {
     "name": "stdout",
     "output_type": "stream",
     "text": [
      "Best matches between simlex and model:\n",
      "\n",
      "('auto', 'rijtuig', 6.3, 0.17739984393119812, 0.0001889669232898461)\n",
      "('helper', 'huishulp', 5.37, -0.029744397848844528, 0.00042775447997783766)\n",
      "('ongeval', 'ramp', 5.48, -0.010726138949394226, 0.003140847252474932)\n",
      "('ouder', 'volwassene', 5.33, -0.030951734632253647, 0.003413021572762076)\n",
      "('avondeten', 'maaltijd', 6.14, 0.15072926878929138, 0.004253523283534566)\n",
      "('ziekte', 'infectie', 6.07, 0.1356552541255951, 0.004494293729464194)\n",
      "('nier', 'orgaan', 6.35, 0.17840278148651123, 0.005243053701188827)\n",
      "('kiezen', 'stemmen op', 5.45, -0.02160658687353134, 0.005247737881210135)\n",
      "('vrouw', 'man', 5.08, -0.10476893186569214, 0.005717799266179435)\n",
      "('bier', 'drank', 5.67, 0.05068148300051689, 0.006451852611369602)\n"
     ]
    }
   ],
   "source": [
    "print_similarities(model_morf, tokenizer_morf, simlex_pairs, reverse=False)"
   ]
  },
  {
   "cell_type": "code",
   "execution_count": 588,
   "metadata": {},
   "outputs": [
    {
     "name": "stdout",
     "output_type": "stream",
     "text": [
      "Worst matches between simlex and model:\n",
      "\n",
      "('aanmoedigen', 'ontmoedigen', 1.71, 0.8011406660079956, 0.8216814441151089)\n",
      "('lenen', 'verkopen', 1.28, 0.6134177446365356, 0.7755977612071567)\n",
      "('badkamer', 'slaapkamer', 2.03, 0.7628785967826843, 0.7669948539468977)\n",
      "('verliezen', 'houden', 1.09, 0.5324879288673401, 0.75624396443367)\n",
      "('besteden', 'redden', 1.06, 0.47199344635009766, 0.7293300565083821)\n",
      "('accepteren', 'bezorgen', 1.41, 0.521480917930603, 0.7151849034097459)\n",
      "('krijgen', 'kopen', 2.12, 0.6442469954490662, 0.6976790532800886)\n",
      "('zelfvertrouwen', 'zelf', 2.1, 0.636062741279602, 0.6958091484175788)\n",
      "('pleiten', 'bedelen', 1.73, 0.5287232398986816, 0.6832505088382297)\n",
      "('vernietigen', 'bouwen', 1.46, 0.4636501967906952, 0.6807139872842365)\n"
     ]
    }
   ],
   "source": [
    "print_similarities(model_morf, tokenizer_morf, simlex_pairs, reverse=True)"
   ]
  },
  {
   "cell_type": "code",
   "execution_count": 451,
   "metadata": {},
   "outputs": [
    {
     "data": {
      "image/png": "[encoded data removed]",
      "text/plain": [
       "<Figure size 600x600 with 1 Axes>"
      ]
     },
     "metadata": {},
     "output_type": "display_data"
    }
   ],
   "source": [
    "plot_similarities_scatterplot(model_morf, tokenizer_morf, simlex_pairs) # new"
   ]
  },
  {
   "cell_type": "code",
   "execution_count": 452,
   "metadata": {},
   "outputs": [],
   "source": [
    "plot_similarities_scatterplot_save(model_morf, tokenizer_morf, simlex_pairs, output_file='scatterplot_morf.png')"
   ]
  },
  {
   "cell_type": "markdown",
   "metadata": {},
   "source": [
    "#### Specifieke woorden"
   ]
  },
  {
   "cell_type": "code",
   "execution_count": 133,
   "metadata": {},
   "outputs": [],
   "source": [
    "word_pairs = [('ontmoedigen', 'aanmoedigen', 3, 'x')] #, ('meisje', 'dienstmeisje', 3, 'x'), ('organiseren', 'desorganiseren', 3, 'x')]\n",
    "word_pairs = [('meisje', 'dienstmeisje', 3, 'x')]\n",
    "word_pairs = [('noord', 'zuid', 3, 'x')]\n",
    "word_pairs = [('desorganiseren', 'organiseren', 3, 'x')]"
   ]
  },
  {
   "cell_type": "code",
   "execution_count": 134,
   "metadata": {},
   "outputs": [
    {
     "data": {
      "text/plain": [
       "[('desorganiseren', 'organiseren', 3.0, 0.15493817627429962)]"
      ]
     },
     "execution_count": 134,
     "metadata": {},
     "output_type": "execute_result"
    }
   ],
   "source": [
    "get_similarities_for_word_pairs(model_morf, tokenizer_morf, word_pairs, layer='embedding')"
   ]
  },
  {
   "cell_type": "code",
   "execution_count": 135,
   "metadata": {},
   "outputs": [
    {
     "name": "stdout",
     "output_type": "stream",
     "text": [
      "[('desorganiseren', 'organiseren', 3.0, 0.38729920983314514)]\n",
      "[('desorganiseren', 'organiseren', 3.0, 0.6540512442588806)]\n",
      "[('desorganiseren', 'organiseren', 3.0, 0.6738194227218628)]\n",
      "[('desorganiseren', 'organiseren', 3.0, 0.6663439273834229)]\n",
      "[('desorganiseren', 'organiseren', 3.0, 0.5950630307197571)]\n",
      "[('desorganiseren', 'organiseren', 3.0, 0.39763131737709045)]\n",
      "[('desorganiseren', 'organiseren', 3.0, 0.4253077208995819)]\n",
      "[('desorganiseren', 'organiseren', 3.0, 0.275326669216156)]\n"
     ]
    }
   ],
   "source": [
    "for i in range(8):\n",
    "    print(get_similarities_for_word_pairs(model_wp, tokenizer_wp, word_pairs, layer=i))"
   ]
  },
  {
   "cell_type": "markdown",
   "metadata": {},
   "source": [
    "#### Specifieke woorden"
   ]
  },
  {
   "cell_type": "code",
   "execution_count": 141,
   "metadata": {},
   "outputs": [],
   "source": [
    "words = ['ontmoedigen', 'aanmoedigen', 'meisje', 'dienstmeisje', 'organiseren', 'desorganiseren', 'vertrouwen', 'zelfvertrouwen', 'onderkant', 'zijkant', 'slaapkamer', 'badkamer']"
   ]
  },
  {
   "cell_type": "code",
   "execution_count": 142,
   "metadata": {},
   "outputs": [
    {
     "data": {
      "text/plain": [
       "{'ontmoedigen': ['ontmo', 'ed', 'igen'],\n",
       " 'aanmoedigen': ['aanmoedigen'],\n",
       " 'meisje': ['meisje'],\n",
       " 'dienstmeisje': ['dienst', 'meisje'],\n",
       " 'organiseren': ['organiseren'],\n",
       " 'desorganiseren': ['des', 'organis', 'eren'],\n",
       " 'vertrouwen': ['vertrouwen'],\n",
       " 'zelfvertrouwen': ['zelfvertrouwen'],\n",
       " 'onderkant': ['onderkant'],\n",
       " 'zijkant': ['zijkant'],\n",
       " 'slaapkamer': ['slaapkamer'],\n",
       " 'badkamer': ['badkamer']}"
      ]
     },
     "execution_count": 142,
     "metadata": {},
     "output_type": "execute_result"
    }
   ],
   "source": [
    "tokenizer_segmentations(words, tokenizer_wp)"
   ]
  },
  {
   "cell_type": "code",
   "execution_count": 143,
   "metadata": {},
   "outputs": [
    {
     "data": {
      "text/plain": [
       "{'ontmoedigen': ['ont', 'moed', 'igen'],\n",
       " 'aanmoedigen': ['aan', 'moed', 'igen'],\n",
       " 'meisje': ['meisje'],\n",
       " 'dienstmeisje': ['dienst', 'meisje'],\n",
       " 'organiseren': ['organis', 'eren'],\n",
       " 'desorganiseren': ['des', 'organis', 'eren'],\n",
       " 'vertrouwen': ['vertrouwen'],\n",
       " 'zelfvertrouwen': ['zelf', 'vertrouwen'],\n",
       " 'onderkant': ['onder', 'kant'],\n",
       " 'zijkant': ['z', 'ijk', 'ant'],\n",
       " 'slaapkamer': ['slaapkamer'],\n",
       " 'badkamer': ['badkamer']}"
      ]
     },
     "execution_count": 143,
     "metadata": {},
     "output_type": "execute_result"
    }
   ],
   "source": [
    "tokenizer_segmentations(words, tokenizer_bpe)"
   ]
  },
  {
   "cell_type": "code",
   "execution_count": 144,
   "metadata": {},
   "outputs": [
    {
     "data": {
      "text/plain": [
       "{'ontmoedigen': ['ont', 'moed', 'ig', 'en'],\n",
       " 'aanmoedigen': ['aan', 'moed', 'ig', 'en'],\n",
       " 'meisje': ['meisje'],\n",
       " 'dienstmeisje': ['dien', 'st', 'meisje'],\n",
       " 'organiseren': ['organiseren'],\n",
       " 'desorganiseren': ['des', 'organ', 'iseren'],\n",
       " 'vertrouwen': ['vertrouwen'],\n",
       " 'zelfvertrouwen': ['zelf', 'vertrouwen'],\n",
       " 'onderkant': ['onder', 'kant'],\n",
       " 'zijkant': ['zij', 'kant'],\n",
       " 'slaapkamer': ['slaap', 'kamer'],\n",
       " 'badkamer': ['bad', 'kamer']}"
      ]
     },
     "execution_count": 144,
     "metadata": {},
     "output_type": "execute_result"
    }
   ],
   "source": [
    "tokenizer_segmentations(words, tokenizer_morf)"
   ]
  },
  {
   "cell_type": "markdown",
   "metadata": {},
   "source": [
    "### test: what is the effect of adding special tokens?"
   ]
  },
  {
   "cell_type": "code",
   "execution_count": 345,
   "metadata": {},
   "outputs": [],
   "source": [
    "def get_word_embedding(model, tokenizer, word):\n",
    "\n",
    "    inputs = tokenizer(word, return_tensors='pt')\n",
    "    input_ids = inputs['input_ids']\n",
    "\n",
    "    print(input_ids)\n",
    "\n",
    "    with torch.no_grad():\n",
    "        embeddings = model.get_input_embeddings()(input_ids)\n",
    "\n",
    "    word_embedding = embeddings.squeeze(0).mean(dim=0)\n",
    "    \n",
    "    return word_embedding\n",
    "\n",
    "\n",
    "\n",
    "def get_word_embedding_no_special_tokens(model, tokenizer, word):\n",
    "\n",
    "    inputs = tokenizer(word, return_tensors='pt')\n",
    "    input_ids = inputs['input_ids']\n",
    "\n",
    "\n",
    "    if input_ids.shape[1] > 2:  \n",
    "        input_ids = input_ids[:, 1:-1]\n",
    "    \n",
    "    print(input_ids)\n",
    "\n",
    "\n",
    "    with torch.no_grad():\n",
    "        embeddings = model.get_input_embeddings()(input_ids)\n",
    "\n",
    "    word_embedding = embeddings.squeeze(0).mean(dim=0)\n",
    "    \n",
    "    return word_embedding\n"
   ]
  },
  {
   "cell_type": "code",
   "execution_count": 347,
   "metadata": {},
   "outputs": [
    {
     "name": "stdout",
     "output_type": "stream",
     "text": [
      "tensor([[    0, 13478, 24829, 13959,     3]])\n",
      "tensor([[13478, 24829, 13959]])\n"
     ]
    },
    {
     "data": {
      "text/plain": [
       "tensor([False, False, False,  ..., False, False, False])"
      ]
     },
     "execution_count": 347,
     "metadata": {},
     "output_type": "execute_result"
    }
   ],
   "source": [
    "word = 'achteruitkijkspiegel'\n",
    "# tokenizer = tokenizer_bpe\n",
    "# tokenizer = tokenizer_morf\n",
    "tokenizer = tokenizer_wp\n",
    "\n",
    "# print(tokenizer(word, return_tensors='pt')['input_ids'][0[2])\n",
    "\n",
    "# get_word_embedding(model_bpe, tokenizer_bpe, word) == get_word_embedding_no_special_tokens(model_bpe, tokenizer_bpe, word)\n",
    "\n",
    "\n",
    "get_word_embedding(model_robbert, tokenizer_robbert, word) == get_word_embedding_no_special_tokens(model_robbert, tokenizer_robbert, word)\n"
   ]
  },
  {
   "cell_type": "markdown",
   "metadata": {},
   "source": [
    "## Model evaluation 3: POS tagging"
   ]
  },
  {
   "cell_type": "markdown",
   "metadata": {},
   "source": [
    "### NOTE: This evaluation is performed in another notebook"
   ]
  },
  {
   "cell_type": "markdown",
   "metadata": {},
   "source": [
    "## Model evaluation 4: Sentiment analysis"
   ]
  },
  {
   "cell_type": "markdown",
   "metadata": {},
   "source": [
    "### NOTE: This evaluation is performed in another notebook"
   ]
  }
 ],
 "metadata": {
  "kernelspec": {
   "display_name": "Python 3.9.18 ('tf2')",
   "language": "python",
   "name": "python3"
  },
  "language_info": {
   "codemirror_mode": {
    "name": "ipython",
    "version": 3
   },
   "file_extension": ".py",
   "mimetype": "text/x-python",
   "name": "python",
   "nbconvert_exporter": "python",
   "pygments_lexer": "ipython3",
   "version": "3.9.18"
  },
  "orig_nbformat": 4,
  "vscode": {
   "interpreter": {
    "hash": "5464256675be84b2b1d9b1da2ca9d2da761aa714131bc1885d646bdbb8cb13ac"
   }
  }
 },
 "nbformat": 4,
 "nbformat_minor": 2
}
